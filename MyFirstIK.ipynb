{
 "cells": [
  {
   "cell_type": "markdown",
   "metadata": {},
   "source": [
    "# My First Inverse Kinematic (IK)\n",
    "\n",
    "In this tutorial we will see how to use some [RBDyn](https://github.com/jorisv/RBDyn) algorithms and some Jacobians to compute the inverse kinematic.\n",
    "\n",
    "We will not speak about analytic IK that is kind of obsolet. Instead we will focus on gradient based numerical optimization IK.\n",
    "\n",
    "This tutorial will not be a course on gradient based numerical optimization.\n",
    "Reader than want to see more on this topic can read [Methodt for non-linear least squares problems](http://www2.imm.dtu.dk/pubdb/views/edoc_download.php/3215/pdf) for an introduction.\n",
    "The [Numerical Optimization](http://www.springer.com/fr/book/9780387303031) book is also a great ressource for this topic."
   ]
  },
  {
   "cell_type": "code",
   "execution_count": 1,
   "metadata": {
    "collapsed": true
   },
   "outputs": [],
   "source": [
    "%gui wx\n",
    "from IPython.display import Image\n",
    "from tvtk.tools import ivtk\n",
    "from graph import Axis\n",
    "\n",
    "# create the viewer\n",
    "viewer = ivtk.viewer()\n",
    "viewer.size = (640, 480)\n",
    "\n",
    "viewer.scene.camera.focal_point = (0.138, 0.958, -0.205)\n",
    "viewer.scene.camera.position = (3.763, 1.435, 4.453)\n",
    "\n",
    "display_number = 1\n",
    "def display():\n",
    "    global display_number\n",
    "    path = 'img/SomeAlgorithm/%s.png' % display_number\n",
    "    display_number += 1\n",
    "    viewer.scene.save(path)\n",
    "    return Image(path)"
   ]
  },
  {
   "cell_type": "code",
   "execution_count": 2,
   "metadata": {
    "collapsed": false
   },
   "outputs": [
    {
     "name": "stdout",
     "output_type": "stream",
     "text": [
      "TutorialTree structure:\n",
      "\n",
      "  Return the MultiBodyGraph, MultiBody and the zeroed MultiBodyConfig with the\n",
      "  following tree structure:\n",
      "\n",
      "                b4\n",
      "             j3 | Spherical\n",
      "  Root     j0   |   j1     j2     j4\n",
      "  ---- b0 ---- b1 ---- b2 ----b3 ----b5\n",
      "  Fixed    RevX   RevY    RevZ   PrismZ\n",
      "  \n"
     ]
    }
   ],
   "source": [
    "import numpy as np\n",
    "import eigen3 as e\n",
    "import spacevecalg as sva\n",
    "import rbdyn as rbd\n",
    "\n",
    "from robots import TutorialTree\n",
    "\n",
    "print 'TutorialTree structure:'\n",
    "print TutorialTree.__doc__\n",
    "\n",
    "# create a robot with the same structure than the one in the MultiBody tutorial\n",
    "mbg, mb, mbc = TutorialTree()"
   ]
  },
  {
   "cell_type": "code",
   "execution_count": 3,
   "metadata": {
    "collapsed": true
   },
   "outputs": [],
   "source": [
    "# draw the robot\n",
    "from graph import MultiBodyViz\n",
    "\n",
    "# add visualization of the of the b4 and b5 body that don't have any successors\n",
    "X_b4_ef = sva.PTransformd(sva.RotY(-np.pi/2.), e.Vector3d(0.2, 0., 0.))\n",
    "X_b5_ef = sva.PTransformd(sva.RotX(-np.pi/2.), e.Vector3d(0., 0.2, 0.))\n",
    "mbv = MultiBodyViz(mbg, mb, endEffectorDict={'b4':(X_b4_ef, 0.1, (1., 1., 0.)),\n",
    "                                             'b5':(X_b5_ef, 0.1, (1., 1., 0.))})\n",
    "\n",
    "mbv.addActors(viewer.scene)"
   ]
  },
  {
   "cell_type": "markdown",
   "metadata": {},
   "source": [
    "## One Task IK\n",
    "\n",
    "We define a Task by the two following values:\n",
    " * $ \\mathbf{g}(\\mathbf{q}) $: An error\n",
    " * $ J_{\\mathbf{g}} $: The $ \\mathbf{g} $ error Jacobian $ \\frac{\\partial \\mathbf{g}(\\mathbf{q})}{\\partial \\mathbf{q}} $\n",
    " \n",
    "Our objective is to solve the following problem:\n",
    "$$\n",
    "\\underset{\\mathbf{q}}{\\text{minimize }} \\frac{1}{2} \\| \\mathbf{g}(\\mathbf{q}) \\|^2\n",
    "$$\n",
    "\n",
    "This is a non-linear least squares problem so we can use a Gauss-Newton like method.\n",
    "\n",
    "In this method we will compute a descent direction $ \\mathbf{\\alpha} $ by solving the following problem:\n",
    "$$\n",
    "(J_{\\mathbf{g}}^T J_{\\mathbf{g}}) \\mathbf{\\alpha} = -J_{\\mathbf{g}}^T \\mathbf{g}\n",
    "$$\n",
    "This problem can be solve by the following least square where $ ^{\\#} $ is the pseudoinverse operator:\n",
    "$$\n",
    "\\mathbf{\\alpha} = -J_{\\mathbf{g}}^{\\#} \\mathbf{g}\n",
    "$$\n",
    "Then we can integrate $ \\mathbf{\\alpha} $ to $ \\mathbf{q} $ with the following equation $ \\mathbf{q}_{k+1} = \\mathbf{q}_{k} + \\Delta_{st} \\mathbf{\\alpha}_{k} $ where $ \\Delta_{st} $ is the integration step. In this tutorial we will not make any line search and set $ \\Delta_{st} = 1 $.\n",
    "\n",
    "Since the size of $ \\mathbf{q} $ and $ \\mathbf{\\alpha} $ can be different because of some joint we will use the [eulerIntegration alogrithm](http://nbviewer.ipython.org/github/jorisv/sva_rbdyn_tutorials/blob/master/SomeAlgorithm.ipynb#Euler-Integration) to make this step."
   ]
  },
  {
   "cell_type": "code",
   "execution_count": 4,
   "metadata": {
    "collapsed": true
   },
   "outputs": [],
   "source": [
    "def oneTaskMin(mb, mbc, task, delta=1., maxIter=100, prec=1e-8):\n",
    "    q = e.toNumpy(rbd.paramToVector(mb, mbc.q))\n",
    "    iterate = 0\n",
    "    minimizer = False\n",
    "    while iterate < maxIter and not minimizer:\n",
    "        # compute task data\n",
    "        g = task.g(mb, mbc)\n",
    "        J = task.J(mb, mbc)\n",
    "        \n",
    "        # compute alpha\n",
    "        alpha = -np.mat(np.linalg.lstsq(J, g)[0])\n",
    "        \n",
    "        # integrate and run the forward kinematic\n",
    "        mbc.alpha = rbd.vectorToDof(mb, e.toEigenX(alpha))\n",
    "        rbd.eulerIntegration(mb, mbc, delta)\n",
    "        rbd.forwardKinematics(mb, mbc)\n",
    "        \n",
    "        # take the new q vector\n",
    "        q = e.toNumpy(rbd.paramToVector(mb, mbc.q))\n",
    "        \n",
    "        alphaInf = np.linalg.norm(alpha, np.inf)\n",
    "        yield iterate, q, alpha, alphaInf # yield the current state\n",
    "        \n",
    "        # check if the current alpha is a minimizer\n",
    "        if alphaInf < prec:\n",
    "            minimizer = True\n",
    "        iterate += 1"
   ]
  },
  {
   "cell_type": "markdown",
   "metadata": {},
   "source": [
    "### Body Task\n",
    "\n",
    "Our first task will allow to target a static frame $ {}^{T} X_{O} $ for a frame $ p $ on a body $ b $ noted $ {}^{p} X_{O} = {}^{p} X_{b} {}^{b} X_{O} $.\n",
    "The error function will be:\n",
    "$$\n",
    "\\mathbf{g}^{body} = sva.transformError({}^{T} X_{O}, {}^{p} X_{O})\n",
    "$$\n",
    "and the jacobian:\n",
    "$$\n",
    "J_{\\mathbf{g}^{bdoy}} = \\frac{\\partial {}^{p} X_{O}(\\mathbf{q})}{\\partial \\mathbf{q}}\n",
    "$$"
   ]
  },
  {
   "cell_type": "code",
   "execution_count": 5,
   "metadata": {
    "collapsed": false
   },
   "outputs": [],
   "source": [
    "class BodyTask(object):\n",
    "    def __init__(self, mb, bodyId, X_O_T, X_b_p=sva.PTransformd.Identity()):\n",
    "        self.bodyIndex = mb.bodyIndexById(bodyId)\n",
    "        self.X_O_T = X_O_T\n",
    "        self.X_b_p = X_b_p\n",
    "        self.jac = rbd.Jacobian(mb, bodyId)\n",
    "        self.jac_mat_sparse = e.MatrixXd(6, mb.nrDof())\n",
    "            \n",
    "    def X_O_p(self, mbc):\n",
    "        X_O_b = list(mbc.bodyPosW)[self.bodyIndex]\n",
    "        return self.X_b_p*X_O_b\n",
    "        \n",
    "    def g(self, mb, mbc):\n",
    "        X_O_p = self.X_O_p(mbc)\n",
    "        g_body = sva.transformError(self.X_O_T, X_O_p)\n",
    "        return e.toNumpy(g_body.vector())\n",
    "        \n",
    "    def J(self, mb, mbc):\n",
    "        X_O_p = self.X_O_p(mbc)\n",
    "        # set transformation in Origin orientation frame\n",
    "        X_O_p_O = sva.PTransformd(X_O_p.rotation()).inv()*X_O_p\n",
    "        jac_mat_dense = self.jac.jacobian(mb, mbc, X_O_p_O)\n",
    "        self.jac.fullJacobian(mb, jac_mat_dense, self.jac_mat_sparse)\n",
    "        return e.toNumpy(self.jac_mat_sparse)"
   ]
  },
  {
   "cell_type": "markdown",
   "metadata": {},
   "source": [
    "### Configuration\n",
    "\n",
    "We will target a frame $ {}^{T} X_O $ that the TutorialTree robot can reach with the body b5 end effector."
   ]
  },
  {
   "cell_type": "code",
   "execution_count": 6,
   "metadata": {
    "collapsed": false
   },
   "outputs": [
    {
     "data": {
      "image/png": "[encoded data removed]",
      "text/plain": [
       "<IPython.core.display.Image object>"
      ]
     },
     "execution_count": 6,
     "metadata": {},
     "output_type": "execute_result"
    }
   ],
   "source": [
    "# Set an initial configuration\n",
    "mbcIK = rbd.MultiBodyConfig(mbc)\n",
    "quat = e.Quaterniond(np.pi/3., e.Vector3d(0.1, 0.5, 0.3).normalized())\n",
    "mbcIK.q = [[],\n",
    "           [3.*np.pi/4.],\n",
    "           [np.pi/3.],\n",
    "           [-3.*np.pi/4.],\n",
    "           [0.],\n",
    "           [quat.w(), quat.x(), quat.y(), quat.z()]]\n",
    "\n",
    "rbd.forwardKinematics(mb, mbcIK)\n",
    "rbd.forwardVelocity(mb, mbcIK) # for motionSubspace\n",
    "\n",
    "# target frame\n",
    "X_O_T = sva.PTransformd(sva.RotY(np.pi/2.), e.Vector3d(1.5, 0.5, 1.))\n",
    "\n",
    "# create the task\n",
    "bodyTask = BodyTask(mb, mbg.bodyIdByName(\"b5\"), X_O_T, X_b5_ef)\n",
    "\n",
    "# display initial configuration\n",
    "from graph import Axis\n",
    "axis_b5 = Axis(bodyTask.X_O_p(mbcIK), length=0.3, text='b5')\n",
    "axis_T = Axis(X_O_T, length=0.5, text='Target')\n",
    "axis_b5.addActors(viewer.scene)\n",
    "axis_T.addActors(viewer.scene)\n",
    "\n",
    "mbv.display(mb, mbcIK)\n",
    "display()"
   ]
  },
  {
   "cell_type": "markdown",
   "metadata": {},
   "source": [
    "### Result\n",
    "\n",
    "The result is reached in 7 iterations !"
   ]
  },
  {
   "cell_type": "code",
   "execution_count": 7,
   "metadata": {
    "collapsed": false
   },
   "outputs": [
    {
     "name": "stdout",
     "output_type": "stream",
     "text": [
      "g_body translation error: [[  2.22044605e-16   1.11022302e-16   1.35963107e-32]]\n",
      "g_body rotation error: [[ -6.12323400e-17   0.00000000e+00  -9.72006753e-18]]\n"
     ]
    },
    {
     "data": {
      "image/png": "[encoded data removed]",
      "text/plain": [
       "<IPython.core.display.Image object>"
      ]
     },
     "execution_count": 7,
     "metadata": {},
     "output_type": "execute_result"
    }
   ],
   "source": [
    "# copy the initial configuration to avoid the algorithm to change it\n",
    "mbcIKSolve = rbd.MultiBodyConfig(mbcIK)\n",
    "q_res = None\n",
    "X_O_p_res = None\n",
    "alphaInfList = []\n",
    "for iterate, q, alpha, alphaInf in oneTaskMin(mb, mbcIKSolve, bodyTask, delta=1., maxIter=200, prec=1e-8):\n",
    "    X_O_p = bodyTask.X_O_p(mbcIKSolve)\n",
    "    q_res = q\n",
    "    alphaInfList.append(alphaInf)\n",
    "    \n",
    "mbcIKResult = rbd.MultiBodyConfig(mbcIK)\n",
    "mbcIKResult.q = rbd.vectorToParam(mb, e.toEigenX(q_res))\n",
    "rbd.forwardKinematics(mb, mbcIKResult)\n",
    "\n",
    "g_body = bodyTask.g(mb, mbcIKResult)\n",
    "print 'g_body translation error:', g_body[3:].T\n",
    "print 'g_body rotation error:', g_body[:3].T\n",
    "\n",
    "axis_b5.X = X_O_p\n",
    "mbv.display(mb, mbcIKResult)\n",
    "display()"
   ]
  },
  {
   "cell_type": "code",
   "execution_count": 8,
   "metadata": {
    "collapsed": false
   },
   "outputs": [
    {
     "data": {
      "text/plain": [
       "<matplotlib.text.Text at 0x7f1a8e825290>"
      ]
     },
     "execution_count": 8,
     "metadata": {},
     "output_type": "execute_result"
    },
    {
     "data": {
      "image/png": "[encoded data removed]",
      "text/plain": [
       "<matplotlib.figure.Figure at 0x7f1a9560fb10>"
      ]
     },
     "metadata": {},
     "output_type": "display_data"
    }
   ],
   "source": [
    "%matplotlib inline\n",
    "\n",
    "import matplotlib.pyplot as plt\n",
    "plt.plot(alphaInfList)\n",
    "plt.ylabel('alphaInf')\n",
    "plt.xlabel('iterate')"
   ]
  },
  {
   "cell_type": "markdown",
   "metadata": {},
   "source": [
    "## Multy Task IK"
   ]
  },
  {
   "cell_type": "code",
   "execution_count": null,
   "metadata": {
    "collapsed": true
   },
   "outputs": [],
   "source": []
  }
 ],
 "metadata": {
  "kernelspec": {
   "display_name": "Python 2",
   "language": "python",
   "name": "python2"
  },
  "language_info": {
   "codemirror_mode": {
    "name": "ipython",
    "version": 2
   },
   "file_extension": ".py",
   "mimetype": "text/x-python",
   "name": "python",
   "nbconvert_exporter": "python",
   "pygments_lexer": "ipython2",
   "version": "2.7.6"
  }
 },
 "nbformat": 4,
 "nbformat_minor": 0
}
