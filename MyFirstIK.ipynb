{
 "cells": [
  {
   "cell_type": "markdown",
   "metadata": {},
   "source": [
    "# My First Inverse Kinematic (IK)\n",
    "\n",
    "In this tutorial we will see how to use some [RBDyn](https://github.com/jorisv/RBDyn) algorithms and some Jacobians to compute the inverse kinematic.\n",
    "\n",
    "We will not speak about analytic IK that is kind of obsolet. Instead we will focus on gradient based numerical optimization IK.\n",
    "\n",
    "This tutorial will not be a course on gradient based numerical optimization.\n",
    "Reader than want to see more on this topic can read [Methodt for non-linear least squares problems](http://www2.imm.dtu.dk/pubdb/views/edoc_download.php/3215/pdf) for an introduction.\n",
    "The [Numerical Optimization](http://www.springer.com/fr/book/9780387303031) book is also a great ressource for this topic."
   ]
  },
  {
   "cell_type": "code",
   "execution_count": 1,
   "metadata": {
    "collapsed": true
   },
   "outputs": [],
   "source": [
    "%gui wx\n",
    "from IPython.display import Image\n",
    "from tvtk.tools import ivtk\n",
    "from graph import Axis\n",
    "\n",
    "# create the viewer\n",
    "viewer = ivtk.viewer()\n",
    "viewer.size = (640, 480)\n",
    "\n",
    "viewer.scene.camera.focal_point = (0.138, 0.958, -0.205)\n",
    "viewer.scene.camera.position = (3.763, 1.435, 4.453)\n",
    "\n",
    "display_number = 1\n",
    "def display():\n",
    "    global display_number\n",
    "    path = 'img/SomeAlgorithm/%s.png' % display_number\n",
    "    display_number += 1\n",
    "    viewer.scene.save(path)\n",
    "    return Image(path)"
   ]
  },
  {
   "cell_type": "code",
   "execution_count": 2,
   "metadata": {
    "collapsed": false
   },
   "outputs": [
    {
     "name": "stdout",
     "output_type": "stream",
     "text": [
      "TutorialTree structure:\n",
      "\n",
      "  Return the MultiBodyGraph, MultiBody and the zeroed MultiBodyConfig with the\n",
      "  following tree structure:\n",
      "\n",
      "                b4\n",
      "             j3 | Spherical\n",
      "  Root     j0   |   j1     j2     j4\n",
      "  ---- b0 ---- b1 ---- b2 ----b3 ----b5\n",
      "  Fixed    RevX   RevY    RevZ   PrismZ\n",
      "  \n"
     ]
    }
   ],
   "source": [
    "import numpy as np\n",
    "import eigen3 as e\n",
    "import spacevecalg as sva\n",
    "import rbdyn as rbd\n",
    "\n",
    "from robots import TutorialTree\n",
    "\n",
    "print 'TutorialTree structure:'\n",
    "print TutorialTree.__doc__\n",
    "\n",
    "# create a robot with the same structure than the one in the MultiBody tutorial\n",
    "mbg, mb, mbc = TutorialTree()"
   ]
  },
  {
   "cell_type": "code",
   "execution_count": 3,
   "metadata": {
    "collapsed": true
   },
   "outputs": [],
   "source": [
    "# draw the robot\n",
    "from graph import MultiBodyViz\n",
    "\n",
    "# add visualization of the of the b4 and b5 body that don't have any successors\n",
    "X_b4_ef = sva.PTransformd(sva.RotY(-np.pi/2.), e.Vector3d(0.2, 0., 0.))\n",
    "X_b5_ef = sva.PTransformd(sva.RotX(-np.pi/2.), e.Vector3d(0., 0.2, 0.))\n",
    "mbv = MultiBodyViz(mbg, mb, endEffectorDict={'b4':(X_b4_ef, 0.1, (1., 1., 0.)),\n",
    "                                             'b5':(X_b5_ef, 0.1, (1., 1., 0.))})\n",
    "\n",
    "mbv.addActors(viewer.scene)"
   ]
  },
  {
   "cell_type": "markdown",
   "metadata": {},
   "source": [
    "## One Task IK\n",
    "\n",
    "We define a Task by the two following values:\n",
    " * $ \\mathbf{g}(\\mathbf{q}) $: An error\n",
    " * $ J_{\\mathbf{g}} $: The $ \\mathbf{g} $ error Jacobian $ \\frac{\\partial \\mathbf{g}(\\mathbf{q})}{\\partial \\mathbf{q}} $\n",
    " \n",
    "Our objective is to solve the following problem:\n",
    "$$\n",
    "\\underset{\\mathbf{q}}{\\text{minimize }} \\frac{1}{2} \\| \\mathbf{g}(\\mathbf{q}) \\|^2\n",
    "$$\n",
    "\n",
    "This is a non-linear least squares problem so we can use a Gauss-Newton like method.\n",
    "\n",
    "In this method we will compute a descent direction $ \\mathbf{\\alpha} $ by solving the following problem:\n",
    "$$\n",
    "(J_{\\mathbf{g}}^T J_{\\mathbf{g}}) \\mathbf{\\alpha} = -J_{\\mathbf{g}}^T \\mathbf{g}\n",
    "$$\n",
    "This problem can be solve by the following least square where $ ^{\\#} $ is the pseudoinverse operator:\n",
    "$$\n",
    "\\mathbf{\\alpha} = -J_{\\mathbf{g}}^{\\#} \\mathbf{g}\n",
    "$$\n",
    "Then we can integrate $ \\mathbf{\\alpha} $ to $ \\mathbf{q} $ with the following equation $ \\mathbf{q}_{k+1} = \\mathbf{q}_{k} + \\Delta_{st} \\mathbf{\\alpha}_{k} $ where $ \\Delta_{st} $ is the integration step. In this tutorial we will not make any line search and set $ \\Delta_{st} = 1 $.\n",
    "\n",
    "Since the size of $ \\mathbf{q} $ and $ \\mathbf{\\alpha} $ can be different because of some joint we will use the [eulerIntegration alogrithm](http://nbviewer.ipython.org/github/jorisv/sva_rbdyn_tutorials/blob/master/SomeAlgorithm.ipynb#Euler-Integration) to make this step."
   ]
  },
  {
   "cell_type": "code",
   "execution_count": 4,
   "metadata": {
    "collapsed": true
   },
   "outputs": [],
   "source": [
    "def oneTaskMin(mb, mbc, task, delta=1., maxIter=100, prec=1e-8):\n",
    "    q = e.toNumpy(rbd.paramToVector(mb, mbc.q))\n",
    "    iterate = 0\n",
    "    minimizer = False\n",
    "    while iterate < maxIter and not minimizer:\n",
    "        # compute task data\n",
    "        g = task.g(mb, mbc)\n",
    "        J = task.J(mb, mbc)\n",
    "        \n",
    "        # compute alpha\n",
    "        alpha = -np.mat(np.linalg.lstsq(J, g)[0])\n",
    "        \n",
    "        # integrate and run the forward kinematic\n",
    "        mbc.alpha = rbd.vectorToDof(mb, e.toEigenX(alpha))\n",
    "        rbd.eulerIntegration(mb, mbc, delta)\n",
    "        rbd.forwardKinematics(mb, mbc)\n",
    "        \n",
    "        # take the new q vector\n",
    "        q = e.toNumpy(rbd.paramToVector(mb, mbc.q))\n",
    "        \n",
    "        alphaInf = np.linalg.norm(alpha, np.inf)\n",
    "        yield iterate, q, alpha, alphaInf # yield the current state\n",
    "        \n",
    "        # check if the current alpha is a minimizer\n",
    "        if alphaInf < prec:\n",
    "            minimizer = True\n",
    "        iterate += 1"
   ]
  },
  {
   "cell_type": "markdown",
   "metadata": {},
   "source": [
    "### Body Task\n",
    "\n",
    "Our first task will allow to target a static frame $ {}^{T} X_{O} $ for a frame $ p $ on a body $ b $ noted $ {}^{p} X_{O} = {}^{p} X_{b} {}^{b} X_{O} $.\n",
    "The error function will be:\n",
    "$$\n",
    "\\mathbf{g}^{body} = sva.transformError({}^{T} X_{O}, {}^{p} X_{O})\n",
    "$$\n",
    "The `sva::transformError` function will return the error in the Origin orientation frame so the the jacobian also have te be in this frame:\n",
    "$$\n",
    "J_{\\mathbf{g}^{bdoy}} = \\frac{\\partial plx({}^{O} E_{p}) {}^{p} X_{O}(\\mathbf{q})}{\\partial \\mathbf{q}}\n",
    "$$"
   ]
  },
  {
   "cell_type": "code",
   "execution_count": 5,
   "metadata": {
    "collapsed": false
   },
   "outputs": [],
   "source": [
    "class BodyTask(object):\n",
    "    def __init__(self, mb, bodyId, X_O_T, X_b_p=sva.PTransformd.Identity()):\n",
    "        \"\"\"\n",
    "        Compute the error and the jacobian to target a static frame for a body.\n",
    "        Parameters: \n",
    "            - mb: MultiBody\n",
    "            - bodyId: ID of the body that should move\n",
    "            - X_0_T: targeted frame (PTransformd)\n",
    "            - X_b_p: static frame on the body bodyId\n",
    "        \"\"\"\n",
    "        self.bodyIndex = mb.bodyIndexById(bodyId)\n",
    "        self.X_O_T = X_O_T\n",
    "        self.X_b_p = X_b_p\n",
    "        self.jac = rbd.Jacobian(mb, bodyId)\n",
    "        self.jac_mat_sparse = e.MatrixXd(6, mb.nrDof())\n",
    "            \n",
    "    def X_O_p(self, mbc):\n",
    "        X_O_b = list(mbc.bodyPosW)[self.bodyIndex]\n",
    "        return self.X_b_p*X_O_b\n",
    "        \n",
    "    def g(self, mb, mbc):\n",
    "        X_O_p = self.X_O_p(mbc)\n",
    "        g_body = sva.transformError(self.X_O_T, X_O_p)\n",
    "        return e.toNumpy(g_body.vector())\n",
    "        \n",
    "    def J(self, mb, mbc):\n",
    "        X_O_p = self.X_O_p(mbc)\n",
    "        # set transformation in Origin orientation frame\n",
    "        X_O_p_O = sva.PTransformd(X_O_p.rotation()).inv()*X_O_p\n",
    "        jac_mat_dense = self.jac.jacobian(mb, mbc, X_O_p_O)\n",
    "        self.jac.fullJacobian(mb, jac_mat_dense, self.jac_mat_sparse)\n",
    "        return e.toNumpy(self.jac_mat_sparse)"
   ]
  },
  {
   "cell_type": "markdown",
   "metadata": {},
   "source": [
    "### Configuration\n",
    "\n",
    "We will target a frame $ {}^{T} X_O $ that the TutorialTree robot can reach with the body b5 end effector."
   ]
  },
  {
   "cell_type": "code",
   "execution_count": 6,
   "metadata": {
    "collapsed": false
   },
   "outputs": [
    {
     "data": {
      "image/png": "[encoded data removed]",
      "text/plain": [
       "<IPython.core.display.Image object>"
      ]
     },
     "execution_count": 6,
     "metadata": {},
     "output_type": "execute_result"
    }
   ],
   "source": [
    "# Set an initial configuration\n",
    "mbcIK = rbd.MultiBodyConfig(mbc)\n",
    "quat = e.Quaterniond(np.pi/3., e.Vector3d(0.1, 0.5, 0.3).normalized())\n",
    "mbcIK.q = [[],\n",
    "           [3.*np.pi/4.],\n",
    "           [np.pi/3.],\n",
    "           [-3.*np.pi/4.],\n",
    "           [0.],\n",
    "           [quat.w(), quat.x(), quat.y(), quat.z()]]\n",
    "\n",
    "rbd.forwardKinematics(mb, mbcIK)\n",
    "rbd.forwardVelocity(mb, mbcIK) # for motionSubspace\n",
    "\n",
    "# target frame\n",
    "X_O_T = sva.PTransformd(sva.RotY(np.pi/2.), e.Vector3d(1.5, 0.5, 1.))\n",
    "\n",
    "# create the task\n",
    "bodyTask = BodyTask(mb, mbg.bodyIdByName(\"b5\"), X_O_T, X_b5_ef)\n",
    "\n",
    "# display initial configuration\n",
    "from graph import Axis\n",
    "axis_b5 = Axis(bodyTask.X_O_p(mbcIK), length=0.3, text='b5')\n",
    "axis_T = Axis(X_O_T, length=0.5, text='Target')\n",
    "axis_b5.addActors(viewer.scene)\n",
    "axis_T.addActors(viewer.scene)\n",
    "\n",
    "mbv.display(mb, mbcIK)\n",
    "display()"
   ]
  },
  {
   "cell_type": "markdown",
   "metadata": {},
   "source": [
    "### Result\n",
    "\n",
    "The result is reached in 7 iterations !"
   ]
  },
  {
   "cell_type": "code",
   "execution_count": 7,
   "metadata": {
    "collapsed": false
   },
   "outputs": [
    {
     "name": "stdout",
     "output_type": "stream",
     "text": [
      "g_body translation error: [[  2.22044605e-16   1.11022302e-16   1.35963107e-32]]\n",
      "g_body rotation error: [[ -6.12323400e-17   0.00000000e+00  -9.72006753e-18]]\n"
     ]
    },
    {
     "data": {
      "image/png": "[encoded data removed]",
      "text/plain": [
       "<IPython.core.display.Image object>"
      ]
     },
     "execution_count": 7,
     "metadata": {},
     "output_type": "execute_result"
    }
   ],
   "source": [
    "# copy the initial configuration to avoid the algorithm to change it\n",
    "mbcIKSolve = rbd.MultiBodyConfig(mbcIK)\n",
    "q_res = None\n",
    "X_O_p_res = None\n",
    "alphaInfList = []\n",
    "for iterate, q, alpha, alphaInf in oneTaskMin(mb, mbcIKSolve, bodyTask, delta=1., maxIter=200, prec=1e-8):\n",
    "    X_O_p = bodyTask.X_O_p(mbcIKSolve)\n",
    "    q_res = q\n",
    "    alphaInfList.append(alphaInf)\n",
    "    \n",
    "mbcIKResult = rbd.MultiBodyConfig(mbcIK)\n",
    "mbcIKResult.q = rbd.vectorToParam(mb, e.toEigenX(q_res))\n",
    "rbd.forwardKinematics(mb, mbcIKResult)\n",
    "\n",
    "g_body = bodyTask.g(mb, mbcIKResult)\n",
    "print 'g_body translation error:', g_body[3:].T\n",
    "print 'g_body rotation error:', g_body[:3].T\n",
    "\n",
    "axis_b5.X = X_O_p\n",
    "mbv.display(mb, mbcIKResult)\n",
    "display()"
   ]
  },
  {
   "cell_type": "code",
   "execution_count": 8,
   "metadata": {
    "collapsed": false
   },
   "outputs": [
    {
     "data": {
      "text/plain": [
       "<matplotlib.text.Text at 0x7f7d6de97250>"
      ]
     },
     "execution_count": 8,
     "metadata": {},
     "output_type": "execute_result"
    },
    {
     "data": {
      "image/png": "[encoded data removed]",
      "text/plain": [
       "<matplotlib.figure.Figure at 0x7f7d74c83a10>"
      ]
     },
     "metadata": {},
     "output_type": "display_data"
    }
   ],
   "source": [
    "%matplotlib inline\n",
    "\n",
    "import matplotlib.pyplot as plt\n",
    "plt.plot(alphaInfList)\n",
    "plt.ylabel('alphaInf')\n",
    "plt.xlabel('iterate')"
   ]
  },
  {
   "cell_type": "markdown",
   "metadata": {},
   "source": [
    "## Multi Task IK"
   ]
  },
  {
   "cell_type": "markdown",
   "metadata": {
    "collapsed": true
   },
   "source": [
    "This formulation has some flaw.\n",
    "The BodyTask only give a target for the body b5, so the optimization process is free to move b4.\n",
    "\n",
    "Another issue with the mono task IK is the Jacobian singularity. If at one point the BodyTask Jacobian become singular (rank deficient) the BodyTask minimization could fail. By providing more task to solve and redundancy we can solve this issue.\n",
    "\n",
    "To solve this issue we can use a multi task IK (multi objective):\n",
    "$$\n",
    "\\underset{\\mathbf{q}}{\\text{minimize }} \\frac{1}{2} \\sum\\limits_{i=1}^{N} w_i\\| \\mathbf{g}_i(\\mathbf{q}) \\|^2\n",
    "$$\n",
    "Instead of minimizing one task error function we will minimize $ N $ task error function.\n",
    "\n",
    "Some task can enter in conflict. By exemple a task that will move the MultiBody CoM can conflict with a BodyTask.\n",
    "\n",
    "To solve this issue we give a weight $ w $ to each task. This weight will allow us to specify a *soft* priority to each task.\n",
    "\n",
    "The mono task IK method will be used to solve the new problem but instead of using one task jacobian and error function we will stack each jacobian an error function together:\n",
    "$$\n",
    "J_{\\mathbf{g}} = \\begin{bmatrix} w_1 J_1 \\\\ \\vdots \\\\ w_N J_N \\end{bmatrix}\n",
    "\\mathbf{g} = \\begin{bmatrix} w_1 \\mathbf{g}_1 \\\\ \\vdots \\\\ w_N \\mathbf{g}_N \\end{bmatrix}\n",
    "$$"
   ]
  },
  {
   "cell_type": "code",
   "execution_count": 9,
   "metadata": {
    "collapsed": true
   },
   "outputs": [],
   "source": [
    "def manyTaskMin(mb, mbc, tasks, delta=1., maxIter=100, prec=1e-8):\n",
    "    q = e.toNumpy(rbd.paramToVector(mb, mbc.q))\n",
    "    iterate = 0\n",
    "    minimizer = False\n",
    "    while iterate < maxIter and not minimizer:\n",
    "        # compute task data\n",
    "        gList = map(lambda (w, t): w*t.g(mb, mbc), tasks)\n",
    "        JList = map(lambda (w, t): w*t.J(mb, mbc), tasks)\n",
    "        \n",
    "        g = np.concatenate(gList)\n",
    "        J = np.concatenate(JList)\n",
    "        \n",
    "        # compute alpha\n",
    "        alpha = -np.mat(np.linalg.lstsq(J, g)[0])\n",
    "        \n",
    "        # integrate and run the forward kinematic\n",
    "        mbc.alpha = rbd.vectorToDof(mb, e.toEigenX(alpha))\n",
    "        rbd.eulerIntegration(mb, mbc, delta)\n",
    "        rbd.forwardKinematics(mb, mbc)\n",
    "        \n",
    "        # take the new q vector\n",
    "        q = e.toNumpy(rbd.paramToVector(mb, mbc.q))\n",
    "        \n",
    "        alphaInf = np.linalg.norm(alpha, np.inf)\n",
    "        yield iterate, q, alpha, alphaInf # yield the current state\n",
    "        \n",
    "        # check if the current alpha is a minimizer\n",
    "        if alphaInf < prec:\n",
    "            minimizer = True\n",
    "        iterate += 1"
   ]
  },
  {
   "cell_type": "markdown",
   "metadata": {},
   "source": [
    "### Posture Task\n",
    "\n",
    "The posture task will target one reference articular position vector $ \\mathbf{q}_T $. This task is usually a low priority task that will ensure that body with no target will not move and also to always have a full rank jacobian during the optimisation process.\n",
    "\n",
    "For simplicity we will only define the Posture Task for the revolute, prismatic or spherical joint.\n",
    "\n",
    "The task error vector is:\n",
    "$$\n",
    "\\mathbf{g}^{posture} = \\begin{bmatrix} qError(\\mathbf{q}_1, \\mathbf{q}_{T_1}) \\\\ \\vdots \\\\ qError(\\mathbf{q}_N, \\mathbf{q}_{T_N}) \\end{bmatrix}\n",
    "$$\n",
    "Where $ qError \\in \\mathbb{R}^{A_i} $ will compute the articular target error depending of the joint.\n",
    "\n",
    "The $ qError $ will have a different behavior depending of the joint type:\n",
    "$$\n",
    " qError(\\mathbf{q}_i, \\mathbf{q}_{T_i}) =\n",
    " \\begin{cases}\n",
    " \\mathbf{q}_i - \\mathbf{q}_{T_i} & \\quad \\text{if } joint_i \\text{ is revolute/prismatic}\\\\\n",
    " sva.rotationError(\\mathbf{q}_{T_i}, \\mathbf{q}_i) & \\quad \\text{if } joint_i \\text{ is spherical}\n",
    " \\end{cases}\n",
    "$$\n",
    "\n",
    "The jacobian is:\n",
    "$$\n",
    "J_{\\mathbf{g}^{posture}} =\n",
    "\\begin{bmatrix}\n",
    "I^{A_1 \\times A_1} & \\cdots & \\cdots \\\\\n",
    "\\vdots & \\vdots & \\vdots \\\\\n",
    "\\cdots & \\cdots & I^{A_N \\times A_N}\n",
    "\\end{bmatrix}\n",
    "$$"
   ]
  },
  {
   "cell_type": "code",
   "execution_count": 10,
   "metadata": {
    "collapsed": true
   },
   "outputs": [],
   "source": [
    "class PostureTask(object):\n",
    "    def __init__(self, mb, q_T):\n",
    "        \"\"\"\n",
    "        Target a default configuration for the robot\n",
    "        \"\"\"\n",
    "        self.q_T = q_T\n",
    "        \n",
    "        def isDefine(j):\n",
    "            return j.type() in (rbd.Joint.Prism, rbd.Joint.Rev, rbd.Joint.Spherical)\n",
    "        # take back joint and joint index that are define\n",
    "        self.jointIndex = [i for i, j in enumerate(mb.joints()) if isDefine(j)]\n",
    "        self.joints = [mb.joint(index) for index in self.jointIndex]\n",
    "        nrDof = reduce(lambda dof, j: dof + j.dof(), self.joints, 0)\n",
    "        \n",
    "        # initialize g\n",
    "        self.g_mat = np.mat(np.zeros((nrDof, 1)))\n",
    "        \n",
    "        # initialize the jacobian\n",
    "        self.J_mat = np.mat(np.zeros((nrDof, mb.nrDof())))\n",
    "        posInG = 0\n",
    "        for jIndex, j in zip(self.jointIndex, self.joints):\n",
    "            posInDof = mb.jointPosInDof(jIndex)\n",
    "            self.J_mat[posInG:posInG+j.dof(),\n",
    "                       posInDof:posInDof+j.dof()] = np.eye(j.dof())\n",
    "            posInG += j.dof()\n",
    "        \n",
    "    def g(self, mb, mbc):\n",
    "        q = map(list, mbc.q)\n",
    "        jointConfig = list(mbc.jointConfig)\n",
    "        posInG = 0\n",
    "        for jIndex, j in zip(self.jointIndex, self.joints):\n",
    "            if j.type() in (rbd.Joint.Prism, rbd.Joint.Rev):\n",
    "                self.g_mat[posInG:posInG+j.dof(),0] = q[jIndex][0] - self.q_T[jIndex][0]\n",
    "            elif j.type() in (rbd.Joint.Spherical,):\n",
    "                orid = e.Quaterniond(*self.q_T[jIndex]).inverse().matrix()\n",
    "                self.g_mat[posInG:posInG+j.dof(),0] =\\\n",
    "                    e.toNumpy(sva.rotationError(orid, jointConfig[jIndex].rotation()))\n",
    "            posInG += j.dof()\n",
    "        return self.g_mat\n",
    "        \n",
    "    def J(self, mb, mbc):\n",
    "        return self.J_mat"
   ]
  },
  {
   "cell_type": "markdown",
   "metadata": {},
   "source": [
    "### Configuration\n",
    "\n",
    "Ok, let's try the same IK, but with the Posture Task as low-priority task."
   ]
  },
  {
   "cell_type": "code",
   "execution_count": 11,
   "metadata": {
    "collapsed": false
   },
   "outputs": [
    {
     "data": {
      "image/png": "[encoded data removed]",
      "text/plain": [
       "<IPython.core.display.Image object>"
      ]
     },
     "execution_count": 11,
     "metadata": {},
     "output_type": "execute_result"
    }
   ],
   "source": [
    "# Set an initial configuration\n",
    "mbcMultiIK = rbd.MultiBodyConfig(mbcIK)\n",
    "\n",
    "postureTask = PostureTask(mb, map(list, mbcMultiIK.q))\n",
    "\n",
    "# display initial configuration\n",
    "from graph import Axis\n",
    "axis_b5.X = bodyTask.X_O_p(mbcMultiIK)\n",
    "axis_T.X = X_O_T\n",
    "\n",
    "mbv.display(mb, mbcMultiIK)\n",
    "display()"
   ]
  },
  {
   "cell_type": "markdown",
   "metadata": {},
   "source": [
    "### Result\n",
    "\n",
    "Ok, nothing impressive in the result that is quite the same of the last one (see the q residual).\n",
    "\n",
    "But we see that the Posture Task with a low priority is not interfering with the Body Task.\n",
    "\n",
    "We will see in a next tutorial some application of the IK for a more complex robot like a humanoid."
   ]
  },
  {
   "cell_type": "code",
   "execution_count": 12,
   "metadata": {
    "collapsed": false
   },
   "outputs": [
    {
     "name": "stdout",
     "output_type": "stream",
     "text": [
      "g_body translation error: [[ -8.00000000e-09   1.84799576e-09  -3.62491448e-09]]\n",
      "g_body rotation error: [[  9.70197715e-09   2.41660976e-09   7.69998188e-09]]\n",
      "g_posture error: [[-0.78539815 -1.04719754  0.78539816  0.79999999  0.          0.          0.        ]]\n",
      "residual between the two solution: 1.49418234363e-08\n"
     ]
    },
    {
     "data": {
      "image/png": "[encoded data removed]",
      "text/plain": [
       "<IPython.core.display.Image object>"
      ]
     },
     "execution_count": 12,
     "metadata": {},
     "output_type": "execute_result"
    }
   ],
   "source": [
    "# copy the initial configuration to avoid the algorithm to change it\n",
    "mbcMultiIKSolve = rbd.MultiBodyConfig(mbcMultiIK)\n",
    "# set the weight of bodyTask to 10000 and the weight of the postureTask to 1\n",
    "tasks = [(10000., bodyTask), (1., postureTask)]\n",
    "q_res = None\n",
    "X_O_p_res = None\n",
    "alphaInfList = []\n",
    "for iterate, q, alpha, alphaInf in manyTaskMin(mb, mbcMultiIKSolve, tasks, delta=1., maxIter=200, prec=1e-8):\n",
    "    X_O_p = bodyTask.X_O_p(mbcMultiIKSolve)\n",
    "    q_res = q\n",
    "    alphaInfList.append(alphaInf)\n",
    "    \n",
    "mbcMultiIKResult = rbd.MultiBodyConfig(mbcMultiIK)\n",
    "mbcMultiIKResult.q = rbd.vectorToParam(mb, e.toEigenX(q_res))\n",
    "rbd.forwardKinematics(mb, mbcMultiIKResult)\n",
    "\n",
    "g_body = bodyTask.g(mb, mbcMultiIKResult)\n",
    "g_posture = postureTask.g(mb, mbcMultiIKResult)\n",
    "print 'g_body translation error:', g_body[3:].T\n",
    "print 'g_body rotation error:', g_body[:3].T\n",
    "print 'g_posture error:', g_posture.T\n",
    "\n",
    "monoQRes = e.toNumpy(rbd.paramToVector(mb, mbcIKResult.q))\n",
    "multiQRes = e.toNumpy(rbd.paramToVector(mb, mbcMultiIKResult.q))\n",
    "print 'residual between the two solution:', np.linalg.norm(monoQRes - multiQRes)\n",
    "\n",
    "axis_b5.X = X_O_p\n",
    "mbv.display(mb, mbcMultiIKResult)\n",
    "display()"
   ]
  },
  {
   "cell_type": "code",
   "execution_count": 13,
   "metadata": {
    "collapsed": false
   },
   "outputs": [
    {
     "data": {
      "text/plain": [
       "<matplotlib.text.Text at 0x7f7d6de4a110>"
      ]
     },
     "execution_count": 13,
     "metadata": {},
     "output_type": "execute_result"
    },
    {
     "data": {
      "image/png": "[encoded data removed]",
      "text/plain": [
       "<matplotlib.figure.Figure at 0x7f7d6de41a90>"
      ]
     },
     "metadata": {},
     "output_type": "display_data"
    }
   ],
   "source": [
    "import matplotlib.pyplot as plt\n",
    "plt.plot(alphaInfList)\n",
    "plt.ylabel('alphaInf')\n",
    "plt.xlabel('iterate')"
   ]
  },
  {
   "cell_type": "code",
   "execution_count": null,
   "metadata": {
    "collapsed": true
   },
   "outputs": [],
   "source": []
  }
 ],
 "metadata": {
  "kernelspec": {
   "display_name": "Python 2",
   "language": "python",
   "name": "python2"
  },
  "language_info": {
   "codemirror_mode": {
    "name": "ipython",
    "version": 2
   },
   "file_extension": ".py",
   "mimetype": "text/x-python",
   "name": "python",
   "nbconvert_exporter": "python",
   "pygments_lexer": "ipython2",
   "version": "2.7.6"
  }
 },
 "nbformat": 4,
 "nbformat_minor": 0
}
