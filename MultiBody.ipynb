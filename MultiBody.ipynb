{
 "cells": [
  {
   "cell_type": "markdown",
   "metadata": {},
   "source": [
    "# MultiBody\n",
    "\n",
    "In this notebook we will see what compose a MultiBody and how to create it.\n",
    "\n",
    "A MultiBody is a list of rigid bodies linked together by joints. We use it to represent a robot.\n",
    "The [RBDyn](https://github.com/jorisv/RBDyn) library support kinematic tree and kinematic chain, but don't support closed loop kinematic structure. This last structure is addressed at a higher level in the [Tasks](https://github.com/jorisv/Tasks) library.\n",
    "\n",
    "In this tutorial we will see first the [Body](#Body) and [Joint](#Joint) class that represent respectively link inertia and articulation type.\n",
    "\n",
    "Then the [MultiBodyGraph](#MultiBodyGraph) class will be quickly introduced. This important class allow to store an abstract representation of the robot. We will see this class in depth in a next tutorial.\n",
    "\n",
    "Finally we will show the [MultiBody](#MultiBody) and the [MultiBodyConfig](#MultiBodyConfig) class. The first one is a compact representation of a robot, while the second hold state value of the robot and algorithm results (articulated configuration, body configuration, external force applied on each body...)"
   ]
  },
  {
   "cell_type": "code",
   "execution_count": 32,
   "metadata": {
    "collapsed": true
   },
   "outputs": [],
   "source": [
    "%gui wx\n",
    "from IPython.display import Image\n",
    "from tvtk.tools import ivtk\n",
    "from graph import Axis\n",
    "\n",
    "# create the viewer\n",
    "viewer = ivtk.viewer()\n",
    "viewer.size = (640, 480)\n",
    "\n",
    "# TODO make camera work...\n",
    "# viewer.scene.camera.focal_point = (0.193, 0.447, 0.)\n",
    "# viewer.scene.camera.position = (0.193, 0.447, 2.742)\n",
    "\n",
    "display_number = 1\n",
    "def display():\n",
    "    global display_number\n",
    "    path = 'img/SpaceVecAlg/%s.png' % display_number\n",
    "    display_number += 1\n",
    "    viewer.scene.save(path)\n",
    "    return Image(path)"
   ]
  },
  {
   "cell_type": "code",
   "execution_count": 33,
   "metadata": {
    "collapsed": true
   },
   "outputs": [],
   "source": [
    "import numpy as np\n",
    "import eigen3 as e\n",
    "import spacevecalg as sva\n",
    "import rbdyn as rbd"
   ]
  },
  {
   "cell_type": "markdown",
   "metadata": {},
   "source": [
    "## Body\n",
    "\n",
    "`rbd::Body` is a simple class that store a body name, id and inertia.\n",
    "\n",
    "The body name must be an unique string value associated with the body.\n",
    "Same for the id, that is an unique integer value associated with the body.\n",
    "\n",
    "In python we will commonly use name to reference a body while the RBDyn API use id.\n",
    "\n",
    "Finally the body store a `sva::RBInertia` class that will hold the body inertia value (mass, center of mass and rotational inertia at body origin)."
   ]
  },
  {
   "cell_type": "code",
   "execution_count": 34,
   "metadata": {
    "collapsed": false
   },
   "outputs": [],
   "source": [
    "b1m = 2. # 2kg\n",
    "b1c = e.Vector3d(0.5, 0.5, 0.) # center of mass at [0.5, 0.5, 0.] from the body origin\n",
    "b1rI = e.Matrix3d.Identity() # rotational inertia at body origin\n",
    "# here the second argument is the body first moment of mass (h = m c)\n",
    "b1I = sva.RBInertia(b1m, b1m*b1c, b1rI)\n",
    "# first body constructor that take sva.RBInertia as firt param\n",
    "b1 = rbd.Body(b1I, 1, 'b1')\n",
    "\n",
    "b2m = 4. # 4kg\n",
    "b2c = e.Vector3d(0., 0.5, 0.) # center of mass at [0., 0.5, 0.] from the body origin\n",
    "b2rI = e.Matrix3d.Identity() # rotational inertia at body origin\n",
    "# here the second argument is the body center of mass (not the first moment of mass)\n",
    "b2 = rbd.Body(b2m, b2c, b2rI, 2, 'b2')\n",
    "\n",
    "b3 = rbd.Body(1., e.Vector3d.Zero(), e.Matrix3d.Identity(), 3, 'b3')\n",
    "b4 = rbd.Body(1., e.Vector3d.Zero(), e.Matrix3d.Identity(), 4, 'b4')\n",
    "b5 = rbd.Body(1., e.Vector3d.Zero(), e.Matrix3d.Identity(), 5, 'b5')"
   ]
  },
  {
   "cell_type": "markdown",
   "metadata": {},
   "source": [
    "## Joint\n",
    "\n",
    "The `rbd::Joint` class is more complex than `rbd::Body` especially because this class old 7 kind of joint:\n",
    " * [Fixed](#Fixed) : Fixed joint\n",
    " * [Revolute](#Revolute) : Rotate around one axis\n",
    " * [Prismatic](#Prismatic) : Translate on one axis\n",
    " * [Spherical](#Spherical) : Spherical rotation\n",
    " * [Planar](#Planar) : Rotation around the normal axis and translation on the tangent plan\n",
    " * [Cylindrical](#Cylindrical) : Rotation and translation around one axis\n",
    " * [Free](#Free) : 6DoF transformation\n",
    " \n",
    "In a first time we will see common Joint methods, then we will see the particularity of each joint type.\n",
    " \n",
    "Like Body, each Joint should have an unique string and integer Id.\n",
    "Joint also have a forward attribute. If this attribute is false the polarity of the joint is reversed, that mean transformation and motion vector return by the joint will be inversed.\n",
    "Also some joint type can take an axis as parameter.\n",
    "\n",
    "Two constructor exist:\n",
    "```c++\n",
    "Joint(Type type, const Eigen::Vector3d& axis, bool forward, int id, std::string name)\n",
    "Joint(Type type, bool forward, int id, std::string name)\n",
    "```\n",
    "\n",
    "Each Joint have a number of parameters `int params() const` ($ P $) and a number of degree of freedom (DoF) `int dof() const` ($ A $). Those value give the size of the articulated position vector $ q_i \\in \\mathbb{R}^{P} $ and the articulated velocity vector $ \\alpha_i \\in \\mathbb{R}^{A} $ of the joint $ i $.\n",
    "The articulated velocity vector is for all joint expressed in the successor frame of the joint, that mean in the frame after the transformation of the joint.\n",
    "\n",
    "The `Eigen::MatrixXd motionSubspace() const` method return the Motion Subspace matrix $ S \\in \\mathbb{R}^{6,A} $ that allow to transform the articulated position vector and all his time derivative into a motion vector $ \\hat{v}_i = S_i \\alpha_i $.\n",
    "\n",
    "The `sva::PTransformd pose(const std::vector<double>& q) const` return the transformation of a joint associated to a articulated position vector $ q_i $.\n",
    "\n",
    "The `sva::MotionVecd motion(const std::vector<double>& alpha) const` return the motion vector of a joint associated to a articulation velocity vector and his all his time derivative $ \\alpha_i $.\n",
    "\n",
    "Finally the `std::vector<double> zeroParam() const` and `std::vector<double> zeroDof() const` return the articulated position vector $ q_i $ and articulated velocity vector $ \\alpha_i $ that produce respectively an identity transform and a null motion vector."
   ]
  },
  {
   "cell_type": "code",
   "execution_count": 35,
   "metadata": {
    "collapsed": true
   },
   "outputs": [],
   "source": [
    "def jointResume(j):\n",
    "    print 'P =', j.params()\n",
    "    print 'A =', j.dof()\n",
    "    print 'qZero =', list(j.zeroParam())\n",
    "    print 'alphaZero =', list(j.zeroDof())\n",
    "    print 'motion subspace ='\n",
    "    print e.toNumpy(j.motionSubspace())"
   ]
  },
  {
   "cell_type": "markdown",
   "metadata": {},
   "source": [
    "### Fixed\n",
    "\n",
    "The fixed joint don't take any parameter and have zero degree of freedom."
   ]
  },
  {
   "cell_type": "code",
   "execution_count": 36,
   "metadata": {
    "collapsed": false
   },
   "outputs": [
    {
     "name": "stdout",
     "output_type": "stream",
     "text": [
      "P = 0\n",
      "A = 0\n",
      "qZero = []\n",
      "alphaZero = []\n",
      "motion subspace =\n",
      "[]\n"
     ]
    }
   ],
   "source": [
    "jFix = rbd.Joint(rbd.Joint.Fixed, True, 0, 'jFix')\n",
    "jointResume(jFix)"
   ]
  },
  {
   "cell_type": "markdown",
   "metadata": {},
   "source": [
    "### Revolute\n",
    "\n",
    "The revolute joint rotate around one axis given in parameter and have 1 parameter and 1 degree of freedom."
   ]
  },
  {
   "cell_type": "code",
   "execution_count": 37,
   "metadata": {
    "collapsed": false
   },
   "outputs": [
    {
     "name": "stdout",
     "output_type": "stream",
     "text": [
      "P = 1\n",
      "A = 1\n",
      "qZero = [0.0]\n",
      "alphaZero = [0.0]\n",
      "motion subspace =\n",
      "[[ 1.]\n",
      " [ 0.]\n",
      " [ 0.]\n",
      " [ 0.]\n",
      " [ 0.]\n",
      " [ 0.]]\n",
      "rotation:\n",
      "          1           0           0\n",
      "          0 6.12323e-17           1\n",
      "          0          -1 6.12323e-17\n",
      "angular motion: 1 0 0\n"
     ]
    }
   ],
   "source": [
    "# Revolute joint around X axis\n",
    "jRev = rbd.Joint(rbd.Joint.Rev, e.Vector3d.UnitX(), True, 0, 'jRev')\n",
    "jointResume(jRev)\n",
    "print 'rotation:'\n",
    "print jRev.pose([np.pi/2.]).rotation()\n",
    "print 'angular motion:', jRev.motion([1.]).angular().transpose()"
   ]
  },
  {
   "cell_type": "markdown",
   "metadata": {},
   "source": [
    "### Prismatic\n",
    "\n",
    "The prismatic joint translate around one axis given in parameter and have 1 parameter and 1 degree of freedom."
   ]
  },
  {
   "cell_type": "code",
   "execution_count": 38,
   "metadata": {
    "collapsed": false
   },
   "outputs": [
    {
     "name": "stdout",
     "output_type": "stream",
     "text": [
      "P = 1\n",
      "A = 1\n",
      "qZero = [0.0]\n",
      "alphaZero = [0.0]\n",
      "motion subspace =\n",
      "[[ 0.]\n",
      " [ 0.]\n",
      " [ 0.]\n",
      " [ 0.]\n",
      " [ 1.]\n",
      " [ 0.]]\n",
      "translation: 0 1 0\n",
      "linear motion:   0 0.1   0\n"
     ]
    }
   ],
   "source": [
    "# Prismatic joint at Y axis\n",
    "jPrism = rbd.Joint(rbd.Joint.Prism, e.Vector3d.UnitY(), True, 0, 'jPrism')\n",
    "jointResume(jPrism)\n",
    "print 'translation:', jPrism.pose([1.]).translation().transpose()\n",
    "print 'linear motion:', jPrism.motion([0.1]).linear().transpose()"
   ]
  },
  {
   "cell_type": "markdown",
   "metadata": {},
   "source": [
    "### Spherical\n",
    "\n",
    "The sphercial joint is a particular one. It use an unit quaternion (qw, qx, qy, qz) to encode a 3D rotation. Because of the quaternion this joint have 4 parameters [qw, qx, qy, qz] and 3 degree of freedom [wx, wy, wz]."
   ]
  },
  {
   "cell_type": "code",
   "execution_count": 39,
   "metadata": {
    "collapsed": false
   },
   "outputs": [
    {
     "name": "stdout",
     "output_type": "stream",
     "text": [
      "P = 4\n",
      "A = 3\n",
      "qZero = [1.0, 0.0, 0.0, 0.0]\n",
      "alphaZero = [0.0, 0.0, 0.0]\n",
      "motion subspace =\n",
      "[[ 1.  0.  0.]\n",
      " [ 0.  1.  0.]\n",
      " [ 0.  0.  1.]\n",
      " [ 0.  0.  0.]\n",
      " [ 0.  0.  0.]\n",
      " [ 0.  0.  0.]]\n",
      "rotation:\n",
      " 0.941421  0.316228  0.117157\n",
      "-0.316228  0.707107  0.632456\n",
      " 0.117157 -0.632456  0.765685\n",
      "angular motion:   1 0.2 0.5\n"
     ]
    }
   ],
   "source": [
    "jSph = rbd.Joint(rbd.Joint.Spherical, True, 0, 'jSph')\n",
    "jointResume(jSph)\n",
    "q = e.Quaterniond(np.pi/4., e.Vector3d(1., 0., 0.5).normalized())\n",
    "qParam = [q.w(), q.x(), q.y(), q.z()]\n",
    "print 'rotation:'\n",
    "print jSph.pose(qParam).rotation()\n",
    "print 'angular motion:', jSph.motion([1., 0.2, 0.5]).angular().transpose()"
   ]
  },
  {
   "cell_type": "markdown",
   "metadata": {},
   "source": [
    "### Planar\n",
    "\n",
    "The planar joint rotate around the normal axis (Z) and translate around the tangent plane (X,Y) AFTER the rotation.\n",
    "That mean the rotation is done first, then the translation is done in the rotated frame.\n",
    "This joint take 3 parameters [rotation_Z, translation_X, translation_Y] and have 3 degree of freedom in the same order."
   ]
  },
  {
   "cell_type": "code",
   "execution_count": 40,
   "metadata": {
    "collapsed": false
   },
   "outputs": [
    {
     "name": "stdout",
     "output_type": "stream",
     "text": [
      "P = 3\n",
      "A = 3\n",
      "qZero = [0.0, 0.0, 0.0]\n",
      "alphaZero = [0.0, 0.0, 0.0]\n",
      "motion subspace =\n",
      "[[ 0.  0.  0.]\n",
      " [ 0.  0.  0.]\n",
      " [ 1.  0.  0.]\n",
      " [ 0.  1.  0.]\n",
      " [ 0.  0.  1.]\n",
      " [ 0.  0.  0.]]\n",
      "translation: -0.1 0.2   0\n",
      "rotation:\n",
      "6.12323e-17           1           0\n",
      "         -1 6.12323e-17           0\n",
      "          0           0           1\n",
      "motion:    0    0  0.2  0.5 -0.5    0\n"
     ]
    }
   ],
   "source": [
    "jPlan = rbd.Joint(rbd.Joint.Planar, True, 0, 'jPlan')\n",
    "jointResume(jPlan)\n",
    "qParam = [np.pi/2., 0.2, 0.1]\n",
    "print 'translation:', jPlan.pose(qParam).translation().transpose()\n",
    "print 'rotation:'\n",
    "print jPlan.pose(qParam).rotation()\n",
    "print 'motion:', jPlan.motion([0.2, 0.5, -0.5])"
   ]
  },
  {
   "cell_type": "markdown",
   "metadata": {},
   "source": [
    "### Cylindrical\n",
    "\n",
    "The cylindrical joint translate around one axis and then rotation around the same axis.\n",
    "It take 2 parameters [rotation_axis, translation_axis] and 2 degree of freedom in the same order."
   ]
  },
  {
   "cell_type": "code",
   "execution_count": 41,
   "metadata": {
    "collapsed": false
   },
   "outputs": [
    {
     "name": "stdout",
     "output_type": "stream",
     "text": [
      "P = 2\n",
      "A = 2\n",
      "qZero = [0.0, 0.0]\n",
      "alphaZero = [0.0, 0.0]\n",
      "motion subspace =\n",
      "[[ 0.  0.]\n",
      " [ 0.  0.]\n",
      " [ 1.  0.]\n",
      " [ 0.  0.]\n",
      " [ 0.  0.]\n",
      " [ 0.  1.]]\n",
      "translation:   0   0 0.4\n",
      "rotation:\n",
      "6.12323e-17           1           0\n",
      "         -1 6.12323e-17           0\n",
      "          0           0           1\n",
      "motion:    0    0  0.4    0    0 -0.7\n"
     ]
    }
   ],
   "source": [
    "jCyl = rbd.Joint(rbd.Joint.Cylindrical, e.Vector3d.UnitZ(), True, 0, 'jCyl')\n",
    "jointResume(jCyl)\n",
    "qParam = [np.pi/2., 0.4]\n",
    "print 'translation:', jCyl.pose(qParam).translation().transpose()\n",
    "print 'rotation:'\n",
    "print jCyl.pose(qParam).rotation()\n",
    "print 'motion:', jCyl.motion([0.4, -0.7])"
   ]
  },
  {
   "cell_type": "markdown",
   "metadata": {},
   "source": [
    "### Free\n",
    "\n",
    "The free joint is a 6Dof transformation. It make a 3d translation and a 3d rotation.\n",
    "Like the spherical joint, the free joint use an unit quaternion for rotation that make this joint have don't have the same number of parameters and degree of freedom.\n",
    "\n",
    "This joint have 7 parameters [qw, qx, qy, qz, tx, ty, tz] and 6 degree of freedom [wx, wy, wz, vx, vy, vz]."
   ]
  },
  {
   "cell_type": "code",
   "execution_count": null,
   "metadata": {
    "collapsed": true
   },
   "outputs": [],
   "source": [
    "jFree = rbd.Joint(rbd.Joint.Free, True, 0, 'jFree')\n",
    "jointResume(jFree)\n",
    "q = e.Quaterniond(-np.pi/3., e.Vector3d(0.5, 1., 0.2).normalized())\n",
    "qParam = [q.w(), q.x(), q.y(), q.z(), 0.2, -0.4, 0.7]\n",
    "print 'translation:', jFree.pose(qParam).translation().transpose()\n",
    "print 'rotation:'\n",
    "print jFree.pose(qParam).rotation()\n",
    "print 'motion:', j.motion([0.2, 0.5, -0.5])"
   ]
  },
  {
   "cell_type": "markdown",
   "metadata": {},
   "source": [
    "## MultiBodyGraph"
   ]
  },
  {
   "cell_type": "markdown",
   "metadata": {},
   "source": [
    "## MultiBody"
   ]
  },
  {
   "cell_type": "markdown",
   "metadata": {},
   "source": [
    "## MultiBodyConfig"
   ]
  },
  {
   "cell_type": "code",
   "execution_count": null,
   "metadata": {
    "collapsed": true
   },
   "outputs": [],
   "source": []
  }
 ],
 "metadata": {
  "kernelspec": {
   "display_name": "Python 2",
   "language": "python",
   "name": "python2"
  },
  "language_info": {
   "codemirror_mode": {
    "name": "ipython",
    "version": 2
   },
   "file_extension": ".py",
   "mimetype": "text/x-python",
   "name": "python",
   "nbconvert_exporter": "python",
   "pygments_lexer": "ipython2",
   "version": "2.7.6"
  }
 },
 "nbformat": 4,
 "nbformat_minor": 0
}
