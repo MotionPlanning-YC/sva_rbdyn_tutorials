{
 "cells": [
  {
   "cell_type": "markdown",
   "metadata": {},
   "source": [
    "# MultiBody tutorial\n",
    "\n",
    "In this notebook we will see what compose a MultiBody and how to create it.\n",
    "\n",
    "A MultiBody is a list of rigid bodies linked together by joints. We use it to represent a robot.\n",
    "The [RBDyn](https://github.com/jorisv/RBDyn) library support kinematic tree and kinematic chain, but don't support closed loop kinematic structure. This last structure is addressed at a higher level in the [Tasks](https://github.com/jorisv/Tasks) library.\n",
    "\n",
    "In this tutorial we will see first the [Body](#Body) and [Joint](#Joint) class that represent respectively link inertia and articulation type.\n",
    "\n",
    "Then the [MultiBodyGraph](#MultiBodyGraph) class will be quickly introduced. This important class allow to store an abstract representation of the robot. We will see this class in depth in a next tutorial.\n",
    "\n",
    "Finally we will show the [MultiBody](#MultiBody) and the [MultiBodyConfig](#MultiBodyConfig) class. The first one is a compact representation of a robot, while the second hold state value of the robot and algorithm results (articulated configuration, body configuration, external force applied on each body...)"
   ]
  },
  {
   "cell_type": "code",
   "execution_count": 1,
   "metadata": {
    "collapsed": true
   },
   "outputs": [],
   "source": [
    "%gui wx\n",
    "from IPython.display import Image\n",
    "from tvtk.tools import ivtk\n",
    "from graph import Axis\n",
    "\n",
    "# create the viewer\n",
    "viewer = ivtk.viewer()\n",
    "viewer.size = (640, 480)\n",
    "\n",
    "display_number = 1\n",
    "def display():\n",
    "    global display_number\n",
    "    path = 'img/MultiBody/%s.png' % display_number\n",
    "    display_number += 1\n",
    "    viewer.scene.save(path)\n",
    "    return Image(path)"
   ]
  },
  {
   "cell_type": "code",
   "execution_count": 2,
   "metadata": {
    "collapsed": true
   },
   "outputs": [],
   "source": [
    "import numpy as np\n",
    "import eigen3 as e\n",
    "import spacevecalg as sva\n",
    "import rbdyn as rbd"
   ]
  },
  {
   "cell_type": "markdown",
   "metadata": {},
   "source": [
    "## Body\n",
    "\n",
    "`rbd::Body` is a simple class that store a body name, id and inertia.\n",
    "\n",
    "The body name must be an unique string value associated with the body.\n",
    "Same for the id, that is an unique positive integer value associated with the body.\n",
    "\n",
    "In python we will commonly use name to reference a body while the RBDyn API use id.\n",
    "\n",
    "Finally the body store a `sva::RBInertia` class that will hold the body inertia value (mass, center of mass and rotational inertia at body origin)."
   ]
  },
  {
   "cell_type": "code",
   "execution_count": 3,
   "metadata": {
    "collapsed": false
   },
   "outputs": [],
   "source": [
    "b0m = 2. # 2kg\n",
    "b0c = e.Vector3d(0.5, 0.5, 0.) # center of mass at [0.5, 0.5, 0.] from the body origin\n",
    "b0rI = e.Matrix3d.Identity() # rotational inertia at body origin\n",
    "# here the second argument is the body first moment of mass (h = m c)\n",
    "b0I = sva.RBInertia(b0m, b0m*b0c, b0rI)\n",
    "# first body constructor that take sva.RBInertia as firt param\n",
    "b0 = rbd.Body(b0I, 0, 'b0')\n",
    "\n",
    "b1m = 4. # 4kg\n",
    "b1c = e.Vector3d(0., 0.5, 0.) # center of mass at [0., 0.5, 0.] from the body origin\n",
    "b1rI = e.Matrix3d.Identity() # rotational inertia at body origin\n",
    "# here the second argument is the body center of mass (not the first moment of mass)\n",
    "b1 = rbd.Body(b1m, b1c, b1rI, 1, 'b1')\n",
    "\n",
    "b2 = rbd.Body(1., e.Vector3d.Zero(), e.Matrix3d.Identity(), 2, 'b2')\n",
    "b3 = rbd.Body(1., e.Vector3d.Zero(), e.Matrix3d.Identity(), 3, 'b3')\n",
    "b4 = rbd.Body(1., e.Vector3d.Zero(), e.Matrix3d.Identity(), 4, 'b4')\n",
    "b5 = rbd.Body(1., e.Vector3d.Zero(), e.Matrix3d.Identity(), 5, 'b5')"
   ]
  },
  {
   "cell_type": "markdown",
   "metadata": {},
   "source": [
    "## Joint\n",
    "\n",
    "The `rbd::Joint` class is more complex than `rbd::Body` especially because this class old 7 kind of joint:\n",
    " * [Fixed](#Fixed) : Fixed joint\n",
    " * [Revolute](#Revolute) : Rotate around one axis\n",
    " * [Prismatic](#Prismatic) : Translate on one axis\n",
    " * [Spherical](#Spherical) : Spherical rotation\n",
    " * [Planar](#Planar) : Rotation around the normal axis and translation on the tangent plan\n",
    " * [Cylindrical](#Cylindrical) : Rotation and translation around one axis\n",
    " * [Free](#Free) : 6 DoF transformation\n",
    " \n",
    "In a first time we will see common Joint methods, then we will see the particularity of each joint type.\n",
    " \n",
    "Like Body, each Joint should have an unique string and positive integer Id.\n",
    "Joint also have a forward attribute. If this attribute is false the polarity of the joint is reversed, that mean transformation and motion vector return by the joint will be inverted.\n",
    "Also some joint type can take an axis as parameter.\n",
    "\n",
    "Two constructor exist:\n",
    "```c++\n",
    "Joint(Type type, const Eigen::Vector3d& axis, bool forward, int id, std::string name)\n",
    "Joint(Type type, bool forward, int id, std::string name)\n",
    "```\n",
    "\n",
    "Each Joint have a number of parameters `int params() const` ($ P $) and a number of degree of freedom (DoF) `int dof() const` ($ A $). Those value give the size of the articulated position vector $ q_i \\in \\mathbb{R}^{P} $ and the articulated velocity vector $ \\alpha_i \\in \\mathbb{R}^{A} $ of the joint $ i $.\n",
    "The articulated velocity vector is for all joint expressed in the successor frame of the joint, that mean in the frame after the transformation of the joint.\n",
    "\n",
    "The `Eigen::MatrixXd motionSubspace() const` method return the Motion Subspace matrix $ S \\in \\mathbb{R}^{6,A} $ that allow to transform the articulated position vector and all his time derivative into a motion vector $ \\hat{v}_i = S_i \\alpha_i $. In this implementation all Motion Subspace matrix are constant and don't depend of the Joint configuration.\n",
    "\n",
    "The `sva::PTransformd pose(const std::vector<double>& q) const` return the transformation of a joint associated to a articulated position vector $ q_i $.\n",
    "\n",
    "The `sva::MotionVecd motion(const std::vector<double>& alpha) const` return the motion vector of a joint associated to a articulation velocity vector and his all his time derivative $ \\alpha_i $.\n",
    "\n",
    "Finally the `std::vector<double> zeroParam() const` and `std::vector<double> zeroDof() const` return the articulated position vector $ q_i $ and articulated velocity vector $ \\alpha_i $ that produce respectively an identity transform and a null motion vector."
   ]
  },
  {
   "cell_type": "code",
   "execution_count": 4,
   "metadata": {
    "collapsed": true
   },
   "outputs": [],
   "source": [
    "def jointResume(j):\n",
    "    print 'P =', j.params()\n",
    "    print 'A =', j.dof()\n",
    "    print 'qZero =', list(j.zeroParam())\n",
    "    print 'alphaZero =', list(j.zeroDof())\n",
    "    print 'motion subspace ='\n",
    "    print e.toNumpy(j.motionSubspace())"
   ]
  },
  {
   "cell_type": "markdown",
   "metadata": {},
   "source": [
    "### Fixed\n",
    "\n",
    "The fixed joint don't take any parameter and have zero degree of freedom."
   ]
  },
  {
   "cell_type": "code",
   "execution_count": 5,
   "metadata": {
    "collapsed": false
   },
   "outputs": [
    {
     "name": "stdout",
     "output_type": "stream",
     "text": [
      "P = 0\n",
      "A = 0\n",
      "qZero = []\n",
      "alphaZero = []\n",
      "motion subspace =\n",
      "[]\n"
     ]
    }
   ],
   "source": [
    "jFix = rbd.Joint(rbd.Joint.Fixed, True, 0, 'jFix')\n",
    "jointResume(jFix)"
   ]
  },
  {
   "cell_type": "markdown",
   "metadata": {},
   "source": [
    "### Revolute\n",
    "\n",
    "The revolute joint rotate around one axis given in parameter and have 1 parameter in radian and 1 degree of freedom."
   ]
  },
  {
   "cell_type": "code",
   "execution_count": 6,
   "metadata": {
    "collapsed": false
   },
   "outputs": [
    {
     "name": "stdout",
     "output_type": "stream",
     "text": [
      "P = 1\n",
      "A = 1\n",
      "qZero = [0.0]\n",
      "alphaZero = [0.0]\n",
      "motion subspace =\n",
      "[[ 1.]\n",
      " [ 0.]\n",
      " [ 0.]\n",
      " [ 0.]\n",
      " [ 0.]\n",
      " [ 0.]]\n",
      "rotation:\n",
      "          1           0           0\n",
      "          0 6.12323e-17           1\n",
      "          0          -1 6.12323e-17\n",
      "angular motion: 1 0 0\n"
     ]
    }
   ],
   "source": [
    "# Revolute joint around X axis\n",
    "jRev = rbd.Joint(rbd.Joint.Rev, e.Vector3d.UnitX(), True, 0, 'jRev')\n",
    "jointResume(jRev)\n",
    "print 'rotation:'\n",
    "print jRev.pose([np.pi/2.]).rotation()\n",
    "print 'angular motion:', jRev.motion([1.]).angular().transpose()"
   ]
  },
  {
   "cell_type": "markdown",
   "metadata": {},
   "source": [
    "### Prismatic\n",
    "\n",
    "The prismatic joint translate around one axis given in parameter and have 1 parameter in meter and 1 degree of freedom."
   ]
  },
  {
   "cell_type": "code",
   "execution_count": 7,
   "metadata": {
    "collapsed": false
   },
   "outputs": [
    {
     "name": "stdout",
     "output_type": "stream",
     "text": [
      "P = 1\n",
      "A = 1\n",
      "qZero = [0.0]\n",
      "alphaZero = [0.0]\n",
      "motion subspace =\n",
      "[[ 0.]\n",
      " [ 0.]\n",
      " [ 0.]\n",
      " [ 0.]\n",
      " [ 1.]\n",
      " [ 0.]]\n",
      "translation: 0 1 0\n",
      "linear motion:   0 0.1   0\n"
     ]
    }
   ],
   "source": [
    "# Prismatic joint at Y axis\n",
    "jPrism = rbd.Joint(rbd.Joint.Prism, e.Vector3d.UnitY(), True, 0, 'jPrism')\n",
    "jointResume(jPrism)\n",
    "print 'translation:', jPrism.pose([1.]).translation().transpose()\n",
    "print 'linear motion:', jPrism.motion([0.1]).linear().transpose()"
   ]
  },
  {
   "cell_type": "markdown",
   "metadata": {},
   "source": [
    "### Spherical\n",
    "\n",
    "The spherical joint is a particular one. It use an unit quaternion (qw, qx, qy, qz) to encode a 3D rotation. Because of the quaternion this joint have 4 parameters [qw, qx, qy, qz] and 3 degree of freedom [wx, wy, wz]."
   ]
  },
  {
   "cell_type": "code",
   "execution_count": 8,
   "metadata": {
    "collapsed": false
   },
   "outputs": [
    {
     "name": "stdout",
     "output_type": "stream",
     "text": [
      "P = 4\n",
      "A = 3\n",
      "qZero = [1.0, 0.0, 0.0, 0.0]\n",
      "alphaZero = [0.0, 0.0, 0.0]\n",
      "motion subspace =\n",
      "[[ 1.  0.  0.]\n",
      " [ 0.  1.  0.]\n",
      " [ 0.  0.  1.]\n",
      " [ 0.  0.  0.]\n",
      " [ 0.  0.  0.]\n",
      " [ 0.  0.  0.]]\n",
      "rotation:\n",
      " 0.941421  0.316228  0.117157\n",
      "-0.316228  0.707107  0.632456\n",
      " 0.117157 -0.632456  0.765685\n",
      "angular motion:   1 0.2 0.5\n"
     ]
    }
   ],
   "source": [
    "jSph = rbd.Joint(rbd.Joint.Spherical, True, 0, 'jSph')\n",
    "jointResume(jSph)\n",
    "q = e.Quaterniond(np.pi/4., e.Vector3d(1., 0., 0.5).normalized())\n",
    "qParam = [q.w(), q.x(), q.y(), q.z()]\n",
    "print 'rotation:'\n",
    "print jSph.pose(qParam).rotation()\n",
    "print 'angular motion:', jSph.motion([1., 0.2, 0.5]).angular().transpose()"
   ]
  },
  {
   "cell_type": "markdown",
   "metadata": {},
   "source": [
    "### Planar\n",
    "\n",
    "The planar joint rotate around the normal axis (Z) and translate around the tangent plane (X,Y) AFTER the rotation.\n",
    "That mean the rotation is done first, then the translation is done in the rotated frame.\n",
    "This joint take 3 parameters [rotation_Z, translation_X, translation_Y] and have 3 degree of freedom in the same order.\n",
    "Rotation is in radian and translation in meter."
   ]
  },
  {
   "cell_type": "code",
   "execution_count": 9,
   "metadata": {
    "collapsed": false
   },
   "outputs": [
    {
     "name": "stdout",
     "output_type": "stream",
     "text": [
      "P = 3\n",
      "A = 3\n",
      "qZero = [0.0, 0.0, 0.0]\n",
      "alphaZero = [0.0, 0.0, 0.0]\n",
      "motion subspace =\n",
      "[[ 0.  0.  0.]\n",
      " [ 0.  0.  0.]\n",
      " [ 1.  0.  0.]\n",
      " [ 0.  1.  0.]\n",
      " [ 0.  0.  1.]\n",
      " [ 0.  0.  0.]]\n",
      "translation: -0.1 0.2   0\n",
      "rotation:\n",
      "6.12323e-17           1           0\n",
      "         -1 6.12323e-17           0\n",
      "          0           0           1\n",
      "motion:    0    0  0.2  0.5 -0.5    0\n"
     ]
    }
   ],
   "source": [
    "jPlan = rbd.Joint(rbd.Joint.Planar, True, 0, 'jPlan')\n",
    "jointResume(jPlan)\n",
    "qParam = [np.pi/2., 0.2, 0.1]\n",
    "print 'translation:', jPlan.pose(qParam).translation().transpose()\n",
    "print 'rotation:'\n",
    "print jPlan.pose(qParam).rotation()\n",
    "print 'motion:', jPlan.motion([0.2, 0.5, -0.5])"
   ]
  },
  {
   "cell_type": "markdown",
   "metadata": {},
   "source": [
    "### Cylindrical\n",
    "\n",
    "The cylindrical joint translate around one axis and then rotation around the same axis.\n",
    "It take 2 parameters [rotation_axis, translation_axis] and 2 degree of freedom in the same order.\n",
    "Rotation is in radian translation in meter."
   ]
  },
  {
   "cell_type": "code",
   "execution_count": 10,
   "metadata": {
    "collapsed": false
   },
   "outputs": [
    {
     "name": "stdout",
     "output_type": "stream",
     "text": [
      "P = 2\n",
      "A = 2\n",
      "qZero = [0.0, 0.0]\n",
      "alphaZero = [0.0, 0.0]\n",
      "motion subspace =\n",
      "[[ 0.  0.]\n",
      " [ 0.  0.]\n",
      " [ 1.  0.]\n",
      " [ 0.  0.]\n",
      " [ 0.  0.]\n",
      " [ 0.  1.]]\n",
      "translation:   0   0 0.4\n",
      "rotation:\n",
      "6.12323e-17           1           0\n",
      "         -1 6.12323e-17           0\n",
      "          0           0           1\n",
      "motion:    0    0  0.4    0    0 -0.7\n"
     ]
    }
   ],
   "source": [
    "jCyl = rbd.Joint(rbd.Joint.Cylindrical, e.Vector3d.UnitZ(), True, 0, 'jCyl')\n",
    "jointResume(jCyl)\n",
    "qParam = [np.pi/2., 0.4]\n",
    "print 'translation:', jCyl.pose(qParam).translation().transpose()\n",
    "print 'rotation:'\n",
    "print jCyl.pose(qParam).rotation()\n",
    "print 'motion:', jCyl.motion([0.4, -0.7])"
   ]
  },
  {
   "cell_type": "markdown",
   "metadata": {},
   "source": [
    "### Free\n",
    "\n",
    "The free joint is a 6 Dof transformation. It make a 3d translation and a 3d rotation.\n",
    "Like the spherical joint, the free joint use an unit quaternion for rotation that make this joint have don't have the same number of parameters and degree of freedom.\n",
    "\n",
    "This joint have 7 parameters [qw, qx, qy, qz, tx, ty, tz] and 6 degree of freedom [wx, wy, wz, vx, vy, vz].\n",
    "Translation parameters are in meter."
   ]
  },
  {
   "cell_type": "code",
   "execution_count": 11,
   "metadata": {
    "collapsed": false
   },
   "outputs": [
    {
     "name": "stdout",
     "output_type": "stream",
     "text": [
      "P = 7\n",
      "A = 6\n",
      "qZero = [1.0, 0.0, 0.0, 0.0, 0.0, 0.0, 0.0]\n",
      "alphaZero = [0.0, 0.0, 0.0, 0.0, 0.0, 0.0]\n",
      "motion subspace =\n",
      "[[ 1.  0.  0.  0.  0.  0.]\n",
      " [ 0.  1.  0.  0.  0.  0.]\n",
      " [ 0.  0.  1.  0.  0.  0.]\n",
      " [ 0.  0.  0.  1.  0.  0.]\n",
      " [ 0.  0.  0.  0.  1.  0.]\n",
      " [ 0.  0.  0.  0.  0.  1.]]\n",
      "translation:  0.2 -0.4  0.7\n",
      "rotation:\n",
      " 0.596899 0.0412999  0.801253\n",
      " 0.346297  0.887597 -0.303727\n",
      "-0.723733  0.458766  0.515504\n",
      "motion:  0.3 -0.2  0.1    1  2.5   -3\n"
     ]
    }
   ],
   "source": [
    "jFree = rbd.Joint(rbd.Joint.Free, True, 0, 'jFree')\n",
    "jointResume(jFree)\n",
    "q = e.Quaterniond(-np.pi/3., e.Vector3d(0.5, 1., 0.2).normalized())\n",
    "qParam = [q.w(), q.x(), q.y(), q.z(), 0.2, -0.4, 0.7]\n",
    "print 'translation:', jFree.pose(qParam).translation().transpose()\n",
    "print 'rotation:'\n",
    "print jFree.pose(qParam).rotation()\n",
    "print 'motion:', jFree.motion([0.3, -0.2, 0.1, 1., 2.5, -3.])"
   ]
  },
  {
   "cell_type": "markdown",
   "metadata": {},
   "source": [
    "## MultiBodyGraph\n",
    "\n",
    "The `rbd::MultiBodyGraph` class use a graph to store a MultiBody.\n",
    "This representation will allow to generate easily a `rbd::MultiBody` and use every body has root. It allow also to make some manipulation on the MultiBody like merging bodies or removing joints.\n",
    "\n",
    "In this section we will only focus on how fill a `rbd::MultiBodyGraph` and generate a `rbd::MultiBody` from it.\n",
    "Advanced use of `rbd::MultiBodyGraph` will be seen in a futur tutorial.\n",
    "\n",
    "`rbd::MultiBodyGraph` have the `addBody(rbd::Body)` and `addJoint(rbd::Joint)` method that allow to add a `rbd::Body` and a `rbd::Joint` to the graph. This method will throw an exception if the body or the joint name or id already exist or is not valid.\n",
    "\n",
    "Then we can link body together with the `linkBodies` method:\n",
    "```c++\n",
    "void linkBodies(int b1Id, const sva::PTransformd& tB1,\n",
    "\t\t        int b2Id, const sva::PTransformd& tB2, int jointId, bool isB1toB2=true);\n",
    "```\n",
    "Here `b1Id` and `b2Id` is the body integer id of the two bodies that must be linked.\n",
    "`jointId` is the joint integer id of the joint that will be used to link the bodies `b1Id` and `b2Id`.\n",
    "`tB1` is the static transform from the origin of the body `b1Id` to the origin of the joint `jointId`.\n",
    "`tB2` is a static transform that should not be used anymore, the best is to always put it at identity.\n",
    "Finally `isB1toB2` will manage the joint direction (polarity), here the best is to keep this value to true.\n",
    "This method will throw an exception if one of the bodies id or joint id don't exist.\n",
    "\n",
    "If you don't like using integer id the methods `jointIdByName` and `bodyIdByName` return the integer id from the string id of a body or a joint.\n",
    "\n",
    "Finally, we can generate a `rbd::MultiBody` from `rbd::MultiBodyGraph` with the `makeMultiBody` method.\n",
    "This method exist in 3 different flavor:\n",
    "```c++\n",
    "MultiBody makeMultiBody(int rootBodyId, bool isFixed,\n",
    "\t                \tconst sva::PTransformd& X_0_j0=sva::PTransformd::Identity(),\n",
    "\t                \tconst sva::PTransformd& X_b0_j0=sva::PTransformd::Identity());\n",
    "\n",
    "MultiBody makeMultiBody(int rootBodyId, Joint::Type rootJointType,\n",
    "\t\t                const sva::PTransformd& X_0_j0=sva::PTransformd::Identity(),\n",
    "\t\t                const sva::PTransformd& X_b0_j0=sva::PTransformd::Identity());\n",
    "\n",
    "MultiBody makeMultiBody(int rootBodyId, Joint::Type rootJointType,\n",
    "\t\t                const Eigen::Vector3d& axis,\n",
    "\t\t                const sva::PTransformd& X_0_j0=sva::PTransformd::Identity(),\n",
    "\t\t                const sva::PTransformd& X_b0_j0=sva::PTransformd::Identity());\n",
    "```\n",
    "The only difference between those method is the way to create the base joint.\n",
    "All take the `rootBodyId` as first argument. This id will allow the algorithm to know which body will be the base of our kinematic tree (or chain).\n",
    "The nexts arguments will select the root joint type and transformation:\n",
    " * `isFixed`: if true the root joint is Fixed, else the joint is Free\n",
    " * `rootJointType`: manually specify the root joint type\n",
    " * `axis`: manualy specify the root joint axis\n",
    " * `X_0_j0`: static transformation that support the root joint\n",
    " \n",
    "`X_b0_j0` is an advanced argument that will not be explain in this tutorial.\n",
    "\n",
    "The root joint will have the special integer id $-1$ and the name \"Root\".\n",
    "\n",
    "`makeMultiBody` will throw an exception if the `rootBodyId` don't exist. If you have set a cylcle in your MultiBodyGraph the behavior is undefined.\n",
    "\n",
    "OK, enought talking, let's create our first MultiBodyGraph and ou first MultiBody."
   ]
  },
  {
   "cell_type": "code",
   "execution_count": 12,
   "metadata": {
    "collapsed": false
   },
   "outputs": [],
   "source": [
    "mbg = rbd.MultiBodyGraph()\n",
    "\n",
    "# first we add all the bodies previously created\n",
    "mbg.addBody(b0)\n",
    "mbg.addBody(b1)\n",
    "mbg.addBody(b2)\n",
    "mbg.addBody(b3)\n",
    "mbg.addBody(b4)\n",
    "mbg.addBody(b5)\n",
    "\n",
    "# create and add joints\n",
    "\n",
    "# revolute joint around the X axis\n",
    "j0 = rbd.Joint(rbd.Joint.Rev, e.Vector3d.UnitX(), True, 0, \"j0\")\n",
    "# revolute joint around the Y axis\n",
    "j1 = rbd.Joint(rbd.Joint.Rev, e.Vector3d.UnitY(), True, 1, \"j1\")\n",
    "# revolute joint around the Z axis\n",
    "j2 = rbd.Joint(rbd.Joint.Rev, e.Vector3d.UnitZ(), True, 2, \"j2\")\n",
    "# spherical joint\n",
    "j3 = rbd.Joint(rbd.Joint.Spherical, True, 3, \"j3\")\n",
    "# prismatic joint on the Y axis\n",
    "j4 = rbd.Joint(rbd.Joint.Prism, e.Vector3d.UnitY(), True, 4, \"j4\")\n",
    "\n",
    "mbg.addJoint(j0)\n",
    "mbg.addJoint(j1)\n",
    "mbg.addJoint(j2)\n",
    "mbg.addJoint(j3)\n",
    "mbg.addJoint(j4)\n",
    "\n",
    "# Link the bodies to have this tree structure\n",
    "\n",
    "#           b4\n",
    "#        j3 | Spherical\n",
    "#      j0   |   j1     j2     j4\n",
    "#  b0 ---- b1 ---- b2 ----b3 ----b5\n",
    "#     RevX   RevY    RevZ   PrismZ\n",
    "                                                            \n",
    "to = sva.PTransformd(e.Vector3d(0., 0.5, 0.))\n",
    "fro = sva.PTransformd.Identity()\n",
    "   \n",
    "# link b0 to b1 with j0\n",
    "mbg.linkBodies(0, to, 1, fro, 0)\n",
    "# link b1 to b2 with j1\n",
    "mbg.linkBodies(1, to, 2, fro, 1)\n",
    "# link b2 to b3 with j2\n",
    "mbg.linkBodies(2, to, 3, fro, 2)\n",
    "# link b1 to b4 with j3\n",
    "mbg.linkBodies(1, sva.PTransformd(e.Vector3d(0.5, 0., 0.)),\n",
    "               4, fro, 3)\n",
    "# link b3 to b5 with j4\n",
    "mbg.linkBodies(3, to, 5, fro, 4)\n",
    "\n",
    "# create the MultiBody with a fixed base and b0 has root\n",
    "mb = mbg.makeMultiBody(0, True)"
   ]
  },
  {
   "cell_type": "markdown",
   "metadata": {},
   "source": [
    "## MultiBody\n",
    "\n",
    "Now we have a `rbd::MultiBody`. This class is a compact representation of the kinematics tree.\n",
    "Now all our `rbd::Body`, `rbd::Joint` and the static transform list that connect them are stored in a `vector`.\n",
    "The order of the bodies and joints in this vector are dependent of the root body choose when creating the MultiBody.\n",
    "\n",
    "With the `rbd::MultiBodyGraph` we use id (integer or string) to identify a particular Body or Joint.\n",
    "Here we will use an index. This index will give us the position of a Body, Joint in a `vector`.\n",
    "\n",
    "The methods `jointIndexById` and `bodyIndexById`  allow to easily find the index of a joint and a body with their integer id.\n",
    "Beware that the joint and body index only hold for one MultiBody. If you regenerate a MultiBody from a different root the index associated to a particular Joint/Body id will change.\n",
    "\n",
    "A `rbd::MultiBody` have the followings vectors:\n",
    " * `std::vector<Body> bodies()` is a list of body.\n",
    "\n",
    " * `std::vector<Joint> joints()` is a list of joint. The joint $ i $ of this list support the body $ i $. That mean the joint $ i $ is connected to the base of the body $ i $.\n",
    "\n",
    " * `std::vector<int> predecessors()` is a list of index. The entry $ i $ of this list give the index of the body that support the joint $ i $. the index value is $ -1 $ if $ i = 0 $ (i.e. the root joint).\n",
    "\n",
    " * `std::vector<int> successors()` is a list of index. The entry $ i $ of this list give the index of the body that the joint $ i $ support.\n",
    "\n",
    " * `std::vector<int> parent()` is a list of index. The entry $ i $ of this list give the index of the parent body of the body $ i $.\n",
    " \n",
    " * `std::vector<PTransform> transforms()` is a list of transformation. The entry $ i $ of this list give the static transformation that support the joint $ i $. That mean the transformation from bodies()[predecessors()[i]] to joints()[i].\n",
    "\n",
    "Let's play a little with `rbd::MultiBody`."
   ]
  },
  {
   "cell_type": "code",
   "execution_count": 13,
   "metadata": {
    "collapsed": false
   },
   "outputs": [
    {
     "name": "stdout",
     "output_type": "stream",
     "text": [
      "MultiBody: mb\n",
      "number of bodies: 6\n",
      "number of joints: 6\n",
      "\n",
      "bodies:\n",
      "body index: 0, body name: b0, body id: 0\n",
      "body index: 1, body name: b1, body id: 1\n",
      "body index: 2, body name: b2, body id: 2\n",
      "body index: 3, body name: b3, body id: 3\n",
      "body index: 4, body name: b5, body id: 5\n",
      "body index: 5, body name: b4, body id: 4\n",
      "\n",
      "joints:\n",
      "joint index: 0, joint name: Root, joint id: -1\n",
      "joint index: 1, joint name: j0, joint id: 0\n",
      "joint index: 2, joint name: j1, joint id: 1\n",
      "joint index: 3, joint name: j2, joint id: 2\n",
      "joint index: 4, joint name: j4, joint id: 4\n",
      "joint index: 5, joint name: j3, joint id: 3\n",
      "\n",
      "joints predecessors and successors\n",
      "the joint Root is supported by the body Origin and support the body b0\n",
      "the static translation between the body Root and the joint Origin is 0 0 0\n",
      "\n",
      "the joint j0 is supported by the body b0 and support the body b1\n",
      "the static translation between the body j0 and the joint b0 is   0 0.5   0\n",
      "\n",
      "the joint j1 is supported by the body b1 and support the body b2\n",
      "the static translation between the body j1 and the joint b1 is   0 0.5   0\n",
      "\n",
      "the joint j2 is supported by the body b2 and support the body b3\n",
      "the static translation between the body j2 and the joint b2 is   0 0.5   0\n",
      "\n",
      "the joint j4 is supported by the body b3 and support the body b5\n",
      "the static translation between the body j4 and the joint b3 is   0 0.5   0\n",
      "\n",
      "the joint j3 is supported by the body b1 and support the body b4\n",
      "the static translation between the body j3 and the joint b1 is 0.5 0 0\n",
      "\n",
      "\n",
      "MultiBody: mb2\n",
      "number of bodies: 6\n",
      "number of joints: 6\n",
      "\n",
      "bodies:\n",
      "body index: 0, body name: b4, body id: 4\n",
      "body index: 1, body name: b1, body id: 1\n",
      "body index: 2, body name: b0, body id: 0\n",
      "body index: 3, body name: b2, body id: 2\n",
      "body index: 4, body name: b3, body id: 3\n",
      "body index: 5, body name: b5, body id: 5\n",
      "\n",
      "joints:\n",
      "joint index: 0, joint name: Root, joint id: -1\n",
      "joint index: 1, joint name: j3, joint id: 3\n",
      "joint index: 2, joint name: j0, joint id: 0\n",
      "joint index: 3, joint name: j1, joint id: 1\n",
      "joint index: 4, joint name: j2, joint id: 2\n",
      "joint index: 5, joint name: j4, joint id: 4\n",
      "\n",
      "joints predecessors and successors\n",
      "the joint Root is supported by the body Origin and support the body b4\n",
      "the static translation between the body Root and the joint Origin is 0 0 0\n",
      "\n",
      "the joint j0 is supported by the body b4 and support the body b1\n",
      "the static translation between the body j0 and the joint b4 is 0 0 0\n",
      "\n",
      "the joint j1 is supported by the body b1 and support the body b0\n",
      "the static translation between the body j1 and the joint b1 is -0.5 0 0\n",
      "\n",
      "the joint j2 is supported by the body b1 and support the body b2\n",
      "the static translation between the body j2 and the joint b1 is -0.5 0.5   0\n",
      "\n",
      "the joint j4 is supported by the body b2 and support the body b3\n",
      "the static translation between the body j4 and the joint b2 is   0 0.5   0\n",
      "\n",
      "the joint j3 is supported by the body b3 and support the body b5\n",
      "the static translation between the body j3 and the joint b3 is   0 0.5   0\n",
      "\n"
     ]
    }
   ],
   "source": [
    "def printMultiBody(m):\n",
    "    print 'number of bodies:', m.nrBodies()\n",
    "    print 'number of joints:', m.nrJoints()\n",
    "    print\n",
    "    \n",
    "    print 'bodies:'\n",
    "    for bi, b in enumerate(m.bodies()):\n",
    "        print 'body index: %s, body name: %s, body id: %s' % (bi, b.name(), b.id())\n",
    "    print\n",
    "    \n",
    "    print 'joints:'\n",
    "    for ji, j in enumerate(m.joints()):\n",
    "        print 'joint index: %s, joint name: %s, joint id: %s' % (ji, j.name(), j.id())\n",
    "    print\n",
    "    \n",
    "    bodies = list(m.bodies())\n",
    "    pred = list(m.predecessors())\n",
    "    succ = list(m.successors())\n",
    "    trans = list(m.transforms())\n",
    "    print 'joints predecessors and successors'\n",
    "    for ji, j in enumerate(mb.joints()):\n",
    "        predBi = pred[ji] # body INDEX of the joint predecessor\n",
    "        succBi = succ[ji] # body INDEX of the joint successors\n",
    "        predBName = bodies[predBi].name() if predBi != -1 else \"Origin\"\n",
    "        succBName = bodies[succBi].name()\n",
    "        print 'the joint %s is supported by the body %s and support the body %s' % (j.name(), predBName, succBName)\n",
    "        print 'the static translation between the body %s and the joint %s is %s' %\\\n",
    "              (j.name(), predBName, trans[ji].translation().transpose())\n",
    "        print\n",
    "\n",
    "\n",
    "print 'MultiBody: mb'\n",
    "printMultiBody(mb)\n",
    "print\n",
    "\n",
    "# now if we create a new MultiBody with a different root (b4)\n",
    "# we will see that body and joint index will change\n",
    "mb2 = mbg.makeMultiBody(4, True)\n",
    "print 'MultiBody: mb2'\n",
    "printMultiBody(mb2)"
   ]
  },
  {
   "cell_type": "markdown",
   "metadata": {},
   "source": [
    "## MultiBodyConfig\n",
    "\n",
    "The `rbd::MultiBody` class hold all the topology, kinematics and dynamics data of a robot. But this class don't contain the actual configuration of the robot (i.e. articular position vector, velocity vector, torque vector, external force, ...) or the result of some algorithm (i.e. transformation of each body given by the forward kinematics, acceleration given by the inverse dynamics, ...).\n",
    "\n",
    "It's preferable to separate the model of our robot from his configuration. We can imagine some use case where we should have in memory many configuration of the same robot. Also that allow to have a better view of the input and output of some algorithm, better thread safety... Anyway, believe me, that's way better.\n",
    "\n",
    "The `rbd::MultiBodyConfig` class contain the configuration of a `rbd::MultiBody`.\n",
    "All vectors in the `rbd::MultiBodyConfig` are in the same order than the Joint/Body vectors of `rbd::MultiBody` (i.e. the index are the same):\n",
    " * `std::vector<std::vector<double>> q`: articulated position vector $ \\mathbf{q} $ (Joint order)\n",
    " * `std::vector<std::vector<double>> alpha`: articulated velocity vector $ \\mathbf{\\alpha} $ (Joint order)\n",
    " * `std::vector<std::vector<double>> alphaD`: articulated acceleration vector $ \\dot{\\mathbf{\\alpha}} $ (Joint order)\n",
    " * `std::vector<sva::ForceVecd> force`: external force in Origin frame (Body order)\n",
    " * `std::vector<sva::PTransformd> jointConfig`: `rbd::Joint::pose` result (Joint order)\n",
    " * `std::vector<sva::MotionVecd> jointVelocity`: `rbd::Joint::motion` result (Joint order)\n",
    " * `std::vector<std::vector<double>> jointTorque`: articulated torque vector $ \\mathbf{\\tau} $ (Joint order)\n",
    " * `std::vector<Eigen::MatrixXd> motionSubspace`: `rbd::Joint::motionSubspace` result (Joint order)\n",
    " * `std::vector<sva::PTransformd> bodyPosW`: body transformation from origin (Body order)\n",
    " * `std::vector<sva::PTransformd> parentToSon`: transformation for a body parent()[i] to a body $ i $\n",
    " * `std::vector<sva::MotionVecd> bodyVelW`: body velocity with Origin frame orientation (Body order)\n",
    " * `std::vector<sva::MotionVecd> bodyVelB`: body velocity with body frame orientation (Body order)\n",
    " * `std::vector<sva::MotionVecd> bodyAccB`: body acceleration with body frame orientation (Body order) (Beware the acceleration could containt the gravity, see the algorithm...)\n",
    " * `Eigen::Vector3d gravity`: gravity applied on the system (**BEWARE** by default on the Y axis !!!)\n",
    " \n",
    "To create a `rbd::MultiBodyConfig` we just need to call the constructor with the associated `rbd::MultiBody` as parameter.\n",
    "The `rbd::MultiBodyConfig::zero` method allow to reset the configuration, it's highly recommanded to call it after the creation of the `rbd::MultiBodyConfig`.\n",
    "\n",
    "All algorithm define in RBDyn will take at least a `rbd::MultiBody` and his associated `rbd::MultiBodyConfig`.\n",
    "The Doxygen documentation will define the input values that need to be fill in the `rbd::MultiBodyConfig` and the one that will be fill by the algorithm.\n",
    "\n",
    "In the following exemple we will use the `rbd::forwardKinematics` algorithm that need the `q` vector and will fill the `jointConfig`, `bodyPosW` and `parentToSon` vector."
   ]
  },
  {
   "cell_type": "code",
   "execution_count": 14,
   "metadata": {
    "collapsed": true
   },
   "outputs": [],
   "source": [
    "# draw the robot\n",
    "from graph import MultiBodyViz\n",
    "\n",
    "# add visualization of the of the b4 and b5 body that don't have any successors\n",
    "X_b4_ef = sva.PTransformd(sva.RotY(-np.pi/2.), e.Vector3d(0.2, 0., 0.))\n",
    "X_b5_ef = sva.PTransformd(sva.RotX(-np.pi/2.), e.Vector3d(0., 0.2, 0.))\n",
    "mbv = MultiBodyViz(mbg, mb, endEffectorDict={'b4':(X_b4_ef, 0.1, (1., 1., 0.)),\n",
    "                                             'b5':(X_b5_ef, 0.1, (1., 1., 0.))})\n",
    "\n",
    "mbv.addActors(viewer.scene)"
   ]
  },
  {
   "cell_type": "code",
   "execution_count": 15,
   "metadata": {
    "collapsed": false
   },
   "outputs": [
    {
     "name": "stdout",
     "output_type": "stream",
     "text": [
      "mbc.q: [[], [0.0], [0.0], [0.0], [0.0], [1.0, 0.0, 0.0, 0.0]]\n"
     ]
    },
    {
     "data": {
      "image/png": "[encoded data removed]",
      "text/plain": [
       "<IPython.core.display.Image object>"
      ]
     },
     "execution_count": 15,
     "metadata": {},
     "output_type": "execute_result"
    }
   ],
   "source": [
    "# create the MultiBodyConfig\n",
    "mbc = rbd.MultiBodyConfig(mb)\n",
    "mbc.zero(mb)\n",
    "\n",
    "# take the q vector\n",
    "q = map(list, mbc.q)\n",
    "print 'mbc.q:', q\n",
    "\n",
    "# apply the forward kinematics\n",
    "rbd.forwardKinematics(mb, mbc)\n",
    "mbv.display(mb, mbc) # call the display method\n",
    "\n",
    "# set the camera\n",
    "viewer.scene.camera.focal_point = (0.138, 0.958, -0.205)\n",
    "viewer.scene.camera.position = (3.763, 1.435, 4.453)\n",
    "\n",
    "display()"
   ]
  },
  {
   "cell_type": "markdown",
   "metadata": {},
   "source": [
    " * Black line show the transformation from a body base to all his child joints\n",
    " * Cylinder show revolute joint\n",
    " * Box show prismatic joint\n",
    " * Sphere show spherical joint\n",
    " * Yellow line/plane show an end effector, it's just a visual addon to help you see the end effectors transformation"
   ]
  },
  {
   "cell_type": "code",
   "execution_count": 16,
   "metadata": {
    "collapsed": false
   },
   "outputs": [
    {
     "name": "stdout",
     "output_type": "stream",
     "text": [
      "mbc.q: [[], [1.5707963267948966], [1.0471975511965976], [-1.5707963267948966], [0.5], [0.8660254037844387, 0.08451542547285165, 0.42257712736425823, 0.25354627641855493]]\n"
     ]
    },
    {
     "data": {
      "image/png": "[encoded data removed]",
      "text/plain": [
       "<IPython.core.display.Image object>"
      ]
     },
     "execution_count": 16,
     "metadata": {},
     "output_type": "execute_result"
    }
   ],
   "source": [
    "# update the q vector\n",
    "\n",
    "quat = e.Quaterniond(np.pi/3., e.Vector3d(0.1, 0.5, 0.3).normalized())\n",
    "q[1] = [np.pi/2.]\n",
    "q[2] = [np.pi/3.]\n",
    "q[3] = [-np.pi/2.]\n",
    "q[4] = [0.5]\n",
    "q[5] = [quat.w(), quat.x(), quat.y(), quat.z()]\n",
    "print 'mbc.q:', q\n",
    "\n",
    "# you can also do like this\n",
    "# mbc.q = [[], [np.pi/2.], [np.pi/3.], [-np.pi/2.], [0.5], [quat.w(), quat.x(), quat.y(), quat.z()]]\n",
    "mbc.q = q\n",
    "\n",
    "# compute the forward kinematics\n",
    "rbd.forwardKinematics(mb, mbc)\n",
    "\n",
    "mbv.display(mb, mbc)\n",
    "display()"
   ]
  },
  {
   "cell_type": "code",
   "execution_count": null,
   "metadata": {
    "collapsed": true
   },
   "outputs": [],
   "source": []
  }
 ],
 "metadata": {
  "kernelspec": {
   "display_name": "Python 2",
   "language": "python",
   "name": "python2"
  },
  "language_info": {
   "codemirror_mode": {
    "name": "ipython",
    "version": 2
   },
   "file_extension": ".py",
   "mimetype": "text/x-python",
   "name": "python",
   "nbconvert_exporter": "python",
   "pygments_lexer": "ipython2",
   "version": "2.7.6"
  }
 },
 "nbformat": 4,
 "nbformat_minor": 0
}
