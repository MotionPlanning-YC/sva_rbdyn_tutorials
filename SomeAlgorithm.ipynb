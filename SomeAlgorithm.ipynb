{
 "cells": [
  {
   "cell_type": "markdown",
   "metadata": {},
   "source": [
    "# Some Algorithm\n",
    "\n",
    "In this section we will see how to use some common Rigid Body Algorithms.\n",
    "\n",
    "All those algorithm will use some the [MultiBodyConfig](http://nbviewer.ipython.org/github/jorisv/sva_rbdyn_tutorials/blob/master/MultiBody.ipynb#MultiBodyConfig) member as input and output.\n",
    "\n",
    "First we will see the:\n",
    " * [Forward Kinematic](#Forward-Kinematic)\n",
    " * [Forward Velocity](#Forward-Velocity)\n",
    " * [Forward Acceleration](#Forward-Acceleration)\n",
    " * [Inverse Dynamic](#Inverse-Dynamic)\n",
    " * [Forward Dynamic](#Forward-Dynamic)\n",
    " * [Euler Integration](#Euler-Integration)"
   ]
  },
  {
   "cell_type": "code",
   "execution_count": 1,
   "metadata": {
    "collapsed": true
   },
   "outputs": [],
   "source": [
    "%gui wx\n",
    "from IPython.display import Image\n",
    "from tvtk.tools import ivtk\n",
    "from graph import Axis\n",
    "\n",
    "# create the viewer\n",
    "viewer = ivtk.viewer()\n",
    "viewer.size = (640, 480)\n",
    "\n",
    "viewer.scene.camera.focal_point = (0.138, 0.958, -0.205)\n",
    "viewer.scene.camera.position = (3.763, 1.435, 4.453)\n",
    "\n",
    "display_number = 1\n",
    "def display():\n",
    "    global display_number\n",
    "    path = 'img/SomeAlgorithm/%s.png' % display_number\n",
    "    display_number += 1\n",
    "    viewer.scene.save(path)\n",
    "    return Image(path)"
   ]
  },
  {
   "cell_type": "code",
   "execution_count": 2,
   "metadata": {
    "collapsed": false
   },
   "outputs": [
    {
     "name": "stdout",
     "output_type": "stream",
     "text": [
      "TutorialTree structure:\n",
      "\n",
      "  Return the MultiBodyGraph, MultiBody and the zeroed MultiBodyConfig with the\n",
      "  following tree structure:\n",
      "\n",
      "                b4\n",
      "             j3 | Spherical\n",
      "  Root     j0   |   j1     j2     j4\n",
      "  ---- b0 ---- b1 ---- b2 ----b3 ----b5\n",
      "  Fixed    RevX   RevY    RevZ   PrismZ\n",
      "  \n"
     ]
    }
   ],
   "source": [
    "import numpy as np\n",
    "import eigen3 as e\n",
    "import spacevecalg as sva\n",
    "import rbdyn as rbd\n",
    "\n",
    "from robots import TutorialTree\n",
    "\n",
    "print 'TutorialTree structure:'\n",
    "print TutorialTree.__doc__\n",
    "\n",
    "# create a robot with the same structure than the one in the MultiBody tutorial\n",
    "mbg, mb, mbc = TutorialTree()"
   ]
  },
  {
   "cell_type": "code",
   "execution_count": 3,
   "metadata": {
    "collapsed": true
   },
   "outputs": [],
   "source": [
    "# draw the robot\n",
    "from graph import MultiBodyViz\n",
    "\n",
    "# add visualization of the of the b4 and b5 body that don't have any successors\n",
    "X_b4_ef = sva.PTransformd(sva.RotY(-np.pi/2.), e.Vector3d(0.2, 0., 0.))\n",
    "X_b5_ef = sva.PTransformd(sva.RotX(-np.pi/2.), e.Vector3d(0., 0.2, 0.))\n",
    "mbv = MultiBodyViz(mbg, mb, endEffectorDict={'b4':(X_b4_ef, 0.1, (1., 1., 0.)),\n",
    "                                             'b5':(X_b5_ef, 0.1, (1., 1., 0.))})\n",
    "\n",
    "mbv.addActors(viewer.scene)"
   ]
  },
  {
   "cell_type": "markdown",
   "metadata": {},
   "source": [
    "## Forward Kinematic\n",
    "\n",
    "We already see in the [MultiBody tutorial](http://nbviewer.ipython.org/github/jorisv/sva_rbdyn_tutorials/blob/master/MultiBody.ipynb#MultiBodyConfig) the Forward Kinematic algorithm (FK).\n",
    "\n",
    "This algorithm will compute the transformation of each body thanks to the articular position vector $ \\mathbf{q} $.\n",
    "\n",
    "Input:\n",
    " * q\n",
    " \n",
    "Output:\n",
    " * jointConfig\n",
    " * parentToSon\n",
    " * bodyPosW"
   ]
  },
  {
   "cell_type": "code",
   "execution_count": 4,
   "metadata": {
    "collapsed": false
   },
   "outputs": [
    {
     "data": {
      "image/png": "[encoded data removed]",
      "text/plain": [
       "<IPython.core.display.Image object>"
      ]
     },
     "execution_count": 4,
     "metadata": {},
     "output_type": "execute_result"
    }
   ],
   "source": [
    "# run the forward kinematics with q = 0\n",
    "rbd.forwardKinematics(mb, mbc)\n",
    "\n",
    "# display the result\n",
    "mbv.display(mb, mbc)\n",
    "display()"
   ]
  },
  {
   "cell_type": "code",
   "execution_count": 5,
   "metadata": {
    "collapsed": false
   },
   "outputs": [
    {
     "data": {
      "image/png": "[encoded data removed]",
      "text/plain": [
       "<IPython.core.display.Image object>"
      ]
     },
     "execution_count": 5,
     "metadata": {},
     "output_type": "execute_result"
    }
   ],
   "source": [
    "# Change the articular configuration q\n",
    "q = map(list, mbc.q)\n",
    "quat = e.Quaterniond(np.pi/3., e.Vector3d(0.1, 0.5, 0.3).normalized())\n",
    "\n",
    "mbc.q = [[],\n",
    "         [np.pi/2.],\n",
    "         [np.pi/3.],\n",
    "         [-np.pi/2.],\n",
    "         [0.5],\n",
    "         [quat.w(), quat.x(), quat.y(), quat.z()]]\n",
    "\n",
    "rbd.forwardKinematics(mb, mbc)\n",
    "\n",
    "# display the result\n",
    "mbv.display(mb, mbc)\n",
    "display()"
   ]
  },
  {
   "cell_type": "markdown",
   "metadata": {},
   "source": [
    "## Forward Velocity\n",
    "\n",
    "The Forward Velocity algorithm (FV) allow to compute the velocity of each body thanks to the articular velocity vector $ \\mathbf{\\alpha} $ and the result of the Forward Kinematic.\n",
    "\n",
    "Input:\n",
    " * alpha\n",
    " * jointConfig\n",
    " * parentToSon\n",
    " * bodyPosW\n",
    " \n",
    "Output:\n",
    " * jointVelocity\n",
    " * motionSubspace\n",
    " * bodyVelB\n",
    " * bodyVelW\n",
    "\n",
    "Even if you just plan to make some inverse kinematics and don't need any velocity information you probably need to call this method **one** time.\n",
    "This is because this method fill the **motionSubsace** vector which is **constant** like say in the [previous tutorial](http://nbviewer.ipython.org/github/jorisv/sva_rbdyn_tutorials/blob/master/MultiBody.ipynb#Joint)."
   ]
  },
  {
   "cell_type": "code",
   "execution_count": 6,
   "metadata": {
    "collapsed": false
   },
   "outputs": [
    {
     "name": "stdout",
     "output_type": "stream",
     "text": [
      "alpha: [[], [0.0], [0.0], [0.0], [0.0], [0.0, 0.0, 0.0]]\n"
     ]
    },
    {
     "data": {
      "image/png": "[encoded data removed]",
      "text/plain": [
       "<IPython.core.display.Image object>"
      ]
     },
     "execution_count": 6,
     "metadata": {},
     "output_type": "execute_result"
    }
   ],
   "source": [
    "alpha = map(list, mbc.alpha)\n",
    "\n",
    "print 'alpha:', alpha\n",
    "\n",
    "alpha[1] = [0.4] # first revolute joint will turn at 0.4 radian per second\n",
    "\n",
    "mbc.alpha = alpha\n",
    "rbd.forwardVelocity(mb, mbc)\n",
    "from graph import MotionVecViz\n",
    "velocityVecV = [MotionVecViz(V, X) for X, V in zip(mbc.bodyPosW, mbc.bodyVelB)]\n",
    "\n",
    "for v in velocityVecV:\n",
    "    v.addActors(viewer.scene)\n",
    "    \n",
    "display()"
   ]
  },
  {
   "cell_type": "code",
   "execution_count": 7,
   "metadata": {
    "collapsed": true
   },
   "outputs": [],
   "source": [
    "for v in velocityVecV:\n",
    "    v.removeActors(viewer.scene)"
   ]
  },
  {
   "cell_type": "markdown",
   "metadata": {},
   "source": [
    "## Forward Acceleration\n",
    "\n",
    "The Forward Acceleration algorithm (FA) compute the acceleration of each body (normal and tangential) thanks to the articular acceleration vector $ \\dot{\\mathbf{\\alpha}} $ and the result of the Forward Kinematics and Forward Velocity.\n",
    "\n",
    "Input:\n",
    " * alphaD\n",
    " * parentToSon\n",
    " * jointVelocity\n",
    " * bodyVelB\n",
    " * \\[A_0\\] the initial acceleration (not in MultiBodyConfig)\n",
    " \n",
    "Output:\n",
    " * bodyAccB\n",
    " \n",
    "The A_0 MotionVecd is the initial acceleration. This is usefull in some algorithm (Inverse Dynamic Identification Model) to compute the acceleration that need to achive the system to compensate the gravity.\n",
    "\n",
    "Some algorithm will compute bodyAccB with or without gravity compensation, it will be precise each time."
   ]
  },
  {
   "cell_type": "code",
   "execution_count": 8,
   "metadata": {
    "collapsed": false
   },
   "outputs": [
    {
     "name": "stdout",
     "output_type": "stream",
     "text": [
      "alphaD: [[], [0.0], [0.0], [0.0], [0.0], [0.0, 0.0, 0.0]]\n",
      "No gravity compensation\n"
     ]
    },
    {
     "data": {
      "image/png": "[encoded data removed]",
      "text/plain": [
       "<IPython.core.display.Image object>"
      ]
     },
     "execution_count": 8,
     "metadata": {},
     "output_type": "execute_result"
    }
   ],
   "source": [
    "alphaD = map(list, mbc.alphaD)\n",
    "\n",
    "print 'alphaD:', alphaD\n",
    "\n",
    "alphaD[1] = [-0.5] # first revolute joint will turn is deceleration at -1 radian per second^2\n",
    "\n",
    "mbc.alphaD = alphaD\n",
    "rbd.forwardAcceleration(mb, mbc) # no gravity compensation\n",
    "accelVecV = [MotionVecViz(V, X) for X, V in zip(mbc.bodyPosW, mbc.bodyAccB)]\n",
    "\n",
    "for v in accelVecV:\n",
    "    v.addActors(viewer.scene)\n",
    "    \n",
    "print 'No gravity compensation'\n",
    "display()"
   ]
  },
  {
   "cell_type": "code",
   "execution_count": 9,
   "metadata": {
    "collapsed": true
   },
   "outputs": [],
   "source": [
    "for v in accelVecV:\n",
    "    v.removeActors(viewer.scene)"
   ]
  },
  {
   "cell_type": "code",
   "execution_count": 10,
   "metadata": {
    "collapsed": false
   },
   "outputs": [
    {
     "name": "stdout",
     "output_type": "stream",
     "text": [
      "gravity:      0      0      0      0 0.4905      0\n",
      "with gravity compensation\n"
     ]
    },
    {
     "data": {
      "image/png": "[encoded data removed]",
      "text/plain": [
       "<IPython.core.display.Image object>"
      ]
     },
     "execution_count": 10,
     "metadata": {},
     "output_type": "execute_result"
    }
   ],
   "source": [
    "# we lower the default gravity because of display issues...\n",
    "gravity = sva.MotionVecd(e.Vector3d.Zero(), mbc.gravity)*0.05\n",
    "\n",
    "print 'gravity:', gravity\n",
    "rbd.forwardAcceleration(mb, mbc, gravity) # with gravity compensation\n",
    "accelVecV = [MotionVecViz(V, X) for X, V in zip(mbc.bodyPosW, mbc.bodyAccB)]\n",
    "\n",
    "for v in accelVecV:\n",
    "    v.addActors(viewer.scene)\n",
    "    \n",
    "print \"with gravity compensation\"\n",
    "display()"
   ]
  },
  {
   "cell_type": "code",
   "execution_count": 11,
   "metadata": {
    "collapsed": true
   },
   "outputs": [],
   "source": [
    "for v in accelVecV:\n",
    "    v.removeActors(viewer.scene)"
   ]
  },
  {
   "cell_type": "markdown",
   "metadata": {},
   "source": [
    "## Inverse Dynamic\n",
    "\n",
    "The Inverse Dynamic algorithm (ID) compute the articular torque vector $ \\mathbf{\\tau} $ that will produce an articular  acceleration vector $ \\dot{\\mathbf{\\alpha}} $ given in input. It need also the result of the Forward Kinematics and Forward Velocity.\n",
    "\n",
    "Input:\n",
    " * alphaD\n",
    " * force\n",
    " * jointConfig\n",
    " * parentToSon\n",
    " * bodyPosW\n",
    " * jointVelocity\n",
    " * bodyVelB\n",
    " * motionSubspace\n",
    " * gravity\n",
    " \n",
    "Output:\n",
    "  * bodyAccB (with gravity compensation)\n",
    "  * jointTorque\n",
    "\n",
    "Let's run this algorithm to know the amount of torque that need each joint to compensate the gravity and the achieve a zero motion."
   ]
  },
  {
   "cell_type": "code",
   "execution_count": 12,
   "metadata": {
    "collapsed": false
   },
   "outputs": [
    {
     "name": "stdout",
     "output_type": "stream",
     "text": [
      "jointTorque: [[], [-24.525], [4.905000000000001], [8.047710038720992e-17], [8.495709211125343], [0.0, 0.0, 0.0]]\n"
     ]
    }
   ],
   "source": [
    "# mbcID keep the mbc q vector but have a zero alpha and alphaD vector\n",
    "mbcID = rbd.MultiBodyConfig(mb)\n",
    "mbcID.zero(mb)\n",
    "mbcID.q = mbc.q\n",
    "\n",
    "rbd.forwardKinematics(mb, mbcID)\n",
    "rbd.forwardVelocity(mb, mbcID)\n",
    "ID = rbd.InverseDynamics(mb)\n",
    "ID.inverseDynamics(mb, mbcID)\n",
    "\n",
    "jointTorque = map(list, mbcID.jointTorque)\n",
    "print 'jointTorque:', jointTorque"
   ]
  },
  {
   "cell_type": "markdown",
   "metadata": {},
   "source": [
    "## Forward Dynamic\n",
    "\n",
    "The Forward Dynamic (FD) algorithm do the reverse of the Inverse Dynamic. Given an articular acceleration vector $ \\dot{\\mathbf{\\alpha}} $ it compute the articular torque vector $ \\mathbf{\\tau} $ that produce it. It need also the result of the Forward Kinematics and Forward Velocity.\n",
    "\n",
    "Input:\n",
    " * jointTorque\n",
    " * force\n",
    " * parentToSon\n",
    " * bodyPosW\n",
    " * jointVelocity\n",
    " * bodyVelB\n",
    " * motionSubspace\n",
    " * gravity\n",
    " \n",
    "Output:\n",
    " * alphaD\n",
    " * $ H \\in \\mathbb{R}^{A,A} $ the inertia matrix of the system\n",
    " * $ C \\in \\mathbb{R}^{A} $ the bias vector of the system\n",
    "\n",
    "This algorithm solve the following equation $ H\\dot{\\mathbf{\\alpha}} + C = \\mathbf{\\tau} $.\n",
    "\n",
    "It's possible to only compute the $ H $ and $ C $ matrix."
   ]
  },
  {
   "cell_type": "code",
   "execution_count": 13,
   "metadata": {
    "collapsed": false
   },
   "outputs": [
    {
     "name": "stdout",
     "output_type": "stream",
     "text": [
      "input torque: [[], [-24.525], [4.905000000000001], [8.047710038720992e-17], [8.495709211125343], [0.0, 0.0, 0.0]]\n",
      "\n",
      "alphaDID: [[], [0.0], [0.0], [0.0], [0.0], [0.0, 0.0, 0.0]]\n",
      "alphaDFD: [[], [0.0], [0.0], [0.0], [0.0], [0.0, 0.0, 0.0]]\n",
      "residual: 0.0\n"
     ]
    }
   ],
   "source": [
    "# use the result of the ID to check if the acceleration computed\n",
    "# by the FD are compatible with the ID torque.\n",
    "mbcFD = rbd.MultiBodyConfig(mbcID)\n",
    "\n",
    "FD = rbd.ForwardDynamics(mb)\n",
    "FD.forwardDynamics(mb, mbcFD)\n",
    "\n",
    "alphaDID = map(list, mbcID.alphaD)\n",
    "alphaDFD = map(list, mbcFD.alphaD)\n",
    "\n",
    "print 'input torque:', map(list, mbcFD.jointTorque)\n",
    "print\n",
    "print 'alphaDID:', alphaDID\n",
    "print 'alphaDFD:', alphaDFD\n",
    "\n",
    "alphaDIDVec = e.toNumpy(rbd.dofToVector(mb, alphaDID))\n",
    "alphaDFDVec = e.toNumpy(rbd.dofToVector(mb, alphaDFD))\n",
    "print 'residual:', np.linalg.norm(alphaDIDVec - alphaDFDVec)"
   ]
  },
  {
   "cell_type": "markdown",
   "metadata": {},
   "source": [
    "## Euler Integration\n",
    "\n"
   ]
  },
  {
   "cell_type": "markdown",
   "metadata": {},
   "source": [
    "The Euler Integration algorithm used euler integration to make joint position and velocity evolve.\n",
    "\n",
    "Basically this algorithm do the following:\n",
    "$$\n",
    "\\mathbf{q}_{t+1} = \\mathbf{q}_{t} + \\mathbf{\\alpha}_{t} \\Delta_{dt}\\\\\n",
    "\\mathbf{\\alpha}_{t+1} = \\mathbf{\\alpha}_{t} + \\dot{\\mathbf{\\alpha}}_{t} \\Delta_{dt}\n",
    "$$\n",
    "Where $ \\Delta_{dt} $ is the integration step.\n",
    "\n",
    "It's a little more tricky than that since some joint don't have the same vector size for their position vector and velocity vector. Also some joint position and velocity vector are not in the same frame.\n",
    "\n",
    "Let's see what happened on our robot if we give a 0 torque vector has input."
   ]
  },
  {
   "cell_type": "code",
   "execution_count": 14,
   "metadata": {
    "collapsed": false
   },
   "outputs": [],
   "source": [
    "mbcEI = rbd.MultiBodyConfig(mb)\n",
    "mbcEI.zero(mb)\n",
    "mbcEI.q = mbc.q\n",
    "\n",
    "mbcList = []\n",
    "\n",
    "iterations = 100\n",
    "timeStep = 0.01\n",
    "\n",
    "for i in xrange(iterations):\n",
    "    rbd.forwardKinematics(mb, mbcEI)\n",
    "    rbd.forwardVelocity(mb, mbcEI)\n",
    "    FD.forwardDynamics(mb, mbcEI)\n",
    "    mbcList.append(rbd.MultiBodyConfig(mbcEI)) # store the robot state\n",
    "    \n",
    "    rbd.eulerIntegration(mb, mbcEI, timeStep)"
   ]
  },
  {
   "cell_type": "code",
   "execution_count": 15,
   "metadata": {
    "collapsed": false
   },
   "outputs": [
    {
     "data": {
      "text/html": [
       "\n",
       "<img style='width: Nonepx; height: Nonepx margin: 0px; float: none; border: 1px solid black;' src='img/SomeAlgorithm/6.png' />\n",
       "\n",
       "<img style='width: Nonepx; height: Nonepx margin: 0px; float: none; border: 1px solid black;' src='img/SomeAlgorithm/7.png' />\n",
       "\n",
       "<img style='width: Nonepx; height: Nonepx margin: 0px; float: none; border: 1px solid black;' src='img/SomeAlgorithm/8.png' />\n",
       "\n",
       "<img style='width: Nonepx; height: Nonepx margin: 0px; float: none; border: 1px solid black;' src='img/SomeAlgorithm/9.png' />\n",
       "\n",
       "<img style='width: Nonepx; height: Nonepx margin: 0px; float: none; border: 1px solid black;' src='img/SomeAlgorithm/10.png' />\n",
       "\n",
       "<img style='width: Nonepx; height: Nonepx margin: 0px; float: none; border: 1px solid black;' src='img/SomeAlgorithm/11.png' />\n",
       "\n",
       "<img style='width: Nonepx; height: Nonepx margin: 0px; float: none; border: 1px solid black;' src='img/SomeAlgorithm/12.png' />\n",
       "\n",
       "<img style='width: Nonepx; height: Nonepx margin: 0px; float: none; border: 1px solid black;' src='img/SomeAlgorithm/13.png' />\n",
       "\n",
       "<img style='width: Nonepx; height: Nonepx margin: 0px; float: none; border: 1px solid black;' src='img/SomeAlgorithm/14.png' />\n",
       "\n",
       "<img style='width: Nonepx; height: Nonepx margin: 0px; float: none; border: 1px solid black;' src='img/SomeAlgorithm/15.png' />\n"
      ],
      "text/plain": [
       "<IPython.core.display.HTML object>"
      ]
     },
     "metadata": {},
     "output_type": "display_data"
    }
   ],
   "source": [
    "import IPython.display\n",
    "\n",
    "step = 10\n",
    "imgList = []\n",
    "\n",
    "for mbcIter in mbcList[::step]:\n",
    "    mbv.display(mb, mbcIter)\n",
    "    imgList.append(display())\n",
    "\n",
    "# display all images\n",
    "balise =\\\n",
    "\"\"\"\n",
    "<img style='width: %spx; height: %spx margin: 0px; float: none; border: 1px solid black;' src='%s' />\n",
    "\"\"\"\n",
    "imagesList = ''.join([balise % (img.width, img.height, img.filename) for img in imgList])\n",
    "IPython.display.display(IPython.display.HTML(imagesList))"
   ]
  },
  {
   "cell_type": "code",
   "execution_count": null,
   "metadata": {
    "collapsed": true
   },
   "outputs": [],
   "source": []
  }
 ],
 "metadata": {
  "kernelspec": {
   "display_name": "Python 2",
   "language": "python",
   "name": "python2"
  },
  "language_info": {
   "codemirror_mode": {
    "name": "ipython",
    "version": 2
   },
   "file_extension": ".py",
   "mimetype": "text/x-python",
   "name": "python",
   "nbconvert_exporter": "python",
   "pygments_lexer": "ipython2",
   "version": "2.7.6"
  }
 },
 "nbformat": 4,
 "nbformat_minor": 0
}
